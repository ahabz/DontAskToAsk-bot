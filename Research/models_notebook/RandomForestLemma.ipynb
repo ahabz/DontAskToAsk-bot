{
 "cells": [
  {
   "cell_type": "code",
   "execution_count": 529,
   "id": "29936c3b-894b-474b-a58a-72f5b01d1bed",
   "metadata": {},
   "outputs": [],
   "source": [
    "import pandas as pd\n",
    "import matplotlib.pyplot as plt\n",
    "import numpy as np\n",
    "import spacy\n",
    "import re\n",
    "from nltk.tokenize  import word_tokenize\n",
    "import numpy as np\n",
    "from scipy import spatial\n",
    "import gensim.downloader as api\n",
    "\n",
    "pd.set_option('display.max_colwidth', None)  # Show all text in each cell without truncation\n"
   ]
  },
  {
   "cell_type": "code",
   "execution_count": 530,
   "id": "02550fc6-2a20-4d49-9e85-bdb35679e955",
   "metadata": {},
   "outputs": [
    {
     "name": "stdout",
     "output_type": "stream",
     "text": [
      "[==================================================] 100.0% 104.8/104.8MB downloaded\n"
     ]
    }
   ],
   "source": [
    "model_glove=api.load('glove-twitter-25')"
   ]
  },
  {
   "cell_type": "code",
   "execution_count": 96,
   "id": "cd5bb5d4-a8fe-4111-9ad9-25ca54e35306",
   "metadata": {},
   "outputs": [],
   "source": [
    "nlp=spacy.load('en_core_web_sm')#using the md model because it has word embeddings"
   ]
  },
  {
   "cell_type": "code",
   "execution_count": 45,
   "id": "0e5db270-5dbc-44b1-97d8-1f3db4674779",
   "metadata": {},
   "outputs": [],
   "source": [
    "Df_Train=pd.read_csv('Df_TrainLong.csv',index_col=0)\n"
   ]
  },
  {
   "cell_type": "code",
   "execution_count": 53,
   "id": "0381c01e-996f-40bb-bd67-77ec7f69a53e",
   "metadata": {},
   "outputs": [
    {
     "data": {
      "text/html": [
       "<div>\n",
       "<style scoped>\n",
       "    .dataframe tbody tr th:only-of-type {\n",
       "        vertical-align: middle;\n",
       "    }\n",
       "\n",
       "    .dataframe tbody tr th {\n",
       "        vertical-align: top;\n",
       "    }\n",
       "\n",
       "    .dataframe thead th {\n",
       "        text-align: right;\n",
       "    }\n",
       "</style>\n",
       "<table border=\"1\" class=\"dataframe\">\n",
       "  <thead>\n",
       "    <tr style=\"text-align: right;\">\n",
       "      <th></th>\n",
       "      <th>question</th>\n",
       "      <th>label</th>\n",
       "    </tr>\n",
       "  </thead>\n",
       "  <tbody>\n",
       "    <tr>\n",
       "      <th>0</th>\n",
       "      <td>then why separate bi platforms?</td>\n",
       "      <td>DIRECT</td>\n",
       "    </tr>\n",
       "    <tr>\n",
       "      <th>1</th>\n",
       "      <td>for what books and courses or whatever?</td>\n",
       "      <td>DIRECT</td>\n",
       "    </tr>\n",
       "    <tr>\n",
       "      <th>2</th>\n",
       "      <td>how do you use gpu using gensim? could you elaborate?</td>\n",
       "      <td>DIRECT</td>\n",
       "    </tr>\n",
       "    <tr>\n",
       "      <th>3</th>\n",
       "      <td>would any expert in user experience ux be willing to lend their expertise?</td>\n",
       "      <td>PERMISSION</td>\n",
       "    </tr>\n",
       "    <tr>\n",
       "      <th>4</th>\n",
       "      <td>where can i ask questions related to r?</td>\n",
       "      <td>PERMISSION</td>\n",
       "    </tr>\n",
       "    <tr>\n",
       "      <th>...</th>\n",
       "      <td>...</td>\n",
       "      <td>...</td>\n",
       "    </tr>\n",
       "    <tr>\n",
       "      <th>97</th>\n",
       "      <td>what was the name of the cook on rawhide</td>\n",
       "      <td>DIRECT</td>\n",
       "    </tr>\n",
       "    <tr>\n",
       "      <th>97</th>\n",
       "      <td>what county is chicago in</td>\n",
       "      <td>DIRECT</td>\n",
       "    </tr>\n",
       "    <tr>\n",
       "      <th>97</th>\n",
       "      <td>what is the wingspan of a condor</td>\n",
       "      <td>DIRECT</td>\n",
       "    </tr>\n",
       "    <tr>\n",
       "      <th>97</th>\n",
       "      <td>what facial feature typically contains about 55 hairs</td>\n",
       "      <td>DIRECT</td>\n",
       "    </tr>\n",
       "    <tr>\n",
       "      <th>97</th>\n",
       "      <td>who was named admiral of the ocean seas and viceroy and governor general of all the islands he might discover and also granted 10</td>\n",
       "      <td>DIRECT</td>\n",
       "    </tr>\n",
       "  </tbody>\n",
       "</table>\n",
       "<p>5257 rows × 2 columns</p>\n",
       "</div>"
      ],
      "text/plain": [
       "                                                                                                                              question  \\\n",
       "0                                                                                                      then why separate bi platforms?   \n",
       "1                                                                                              for what books and courses or whatever?   \n",
       "2                                                                                how do you use gpu using gensim? could you elaborate?   \n",
       "3                                                           would any expert in user experience ux be willing to lend their expertise?   \n",
       "4                                                                                              where can i ask questions related to r?   \n",
       "..                                                                                                                                 ...   \n",
       "97                                                                                           what was the name of the cook on rawhide    \n",
       "97                                                                                                          what county is chicago in    \n",
       "97                                                                                                   what is the wingspan of a condor    \n",
       "97                                                                              what facial feature typically contains about 55 hairs    \n",
       "97  who was named admiral of the ocean seas and viceroy and governor general of all the islands he might discover and also granted 10    \n",
       "\n",
       "         label  \n",
       "0       DIRECT  \n",
       "1       DIRECT  \n",
       "2       DIRECT  \n",
       "3   PERMISSION  \n",
       "4   PERMISSION  \n",
       "..         ...  \n",
       "97      DIRECT  \n",
       "97      DIRECT  \n",
       "97      DIRECT  \n",
       "97      DIRECT  \n",
       "97      DIRECT  \n",
       "\n",
       "[5257 rows x 2 columns]"
      ]
     },
     "execution_count": 53,
     "metadata": {},
     "output_type": "execute_result"
    }
   ],
   "source": [
    "Df_Train['question']=Df_Train['question'].apply(lambda x: x.lower() if isinstance(x,str) else x)\n",
    "Df_Train"
   ]
  },
  {
   "cell_type": "code",
   "execution_count": 55,
   "id": "f22d1719-f390-4f5f-bd51-b2b31a378bb9",
   "metadata": {},
   "outputs": [
    {
     "name": "stdout",
     "output_type": "stream",
     "text": [
      "direct--> 2892  Permission--> 2360\n"
     ]
    }
   ],
   "source": [
    "# label comparison to prevent bias\n",
    "print('direct-->',len(Df_Train[Df_Train['label']=='DIRECT']),' Permission-->',len(Df_Train[Df_Train['label']=='PERMISSION']))"
   ]
  },
  {
   "cell_type": "code",
   "execution_count": 56,
   "id": "3d30bc81-7bb3-4ded-ba62-2268b92493ab",
   "metadata": {},
   "outputs": [
    {
     "data": {
      "text/html": [
       "<div>\n",
       "<style scoped>\n",
       "    .dataframe tbody tr th:only-of-type {\n",
       "        vertical-align: middle;\n",
       "    }\n",
       "\n",
       "    .dataframe tbody tr th {\n",
       "        vertical-align: top;\n",
       "    }\n",
       "\n",
       "    .dataframe thead th {\n",
       "        text-align: right;\n",
       "    }\n",
       "</style>\n",
       "<table border=\"1\" class=\"dataframe\">\n",
       "  <thead>\n",
       "    <tr style=\"text-align: right;\">\n",
       "      <th></th>\n",
       "      <th>question</th>\n",
       "      <th>label</th>\n",
       "    </tr>\n",
       "  </thead>\n",
       "  <tbody>\n",
       "    <tr>\n",
       "      <th>2183</th>\n",
       "      <td>hey everyone i m a backed engineer dabbling with bigdata as a personal interest i have implemented a java based mapreduce application for one our project requirement what this does is read data from a hive table process it and write to a hive table we are using aws emr as our datalake solution and i m going to create a new emr run this app against our old data my question is is it possible someone with better knowledge about aws instance types and let me know what instance types should i choose for my master core and task nodes for my new emr? because our current production emr use m xlarge instances for each node types master core and task and based on my little research i think that s not the best choose for datalake tasks tia</td>\n",
       "      <td>DIRECT</td>\n",
       "    </tr>\n",
       "    <tr>\n",
       "      <th>97</th>\n",
       "      <td>what product does mrs olsen promote</td>\n",
       "      <td>DIRECT</td>\n",
       "    </tr>\n",
       "    <tr>\n",
       "      <th>0</th>\n",
       "      <td>then why separate bi platforms?</td>\n",
       "      <td>DIRECT</td>\n",
       "    </tr>\n",
       "    <tr>\n",
       "      <th>3731</th>\n",
       "      <td>have any of you worked in ocean chemistry or ocean climate related fields? i have been working on some datasets and i am struggling with some new terms and to analyse the whole situation i got to understand them can anyone please help to understand or show some links or resources on those keywords? thank you</td>\n",
       "      <td>DIRECT</td>\n",
       "    </tr>\n",
       "    <tr>\n",
       "      <th>583</th>\n",
       "      <td>if doing it like you describe is the common best way to do it then i ll do it like that it just sounded like a hacky solution to me to append your other features like that but to be fair i ve no idea how things work under the hood</td>\n",
       "      <td>DIRECT</td>\n",
       "    </tr>\n",
       "    <tr>\n",
       "      <th>97</th>\n",
       "      <td>what is the nature of learning</td>\n",
       "      <td>DIRECT</td>\n",
       "    </tr>\n",
       "    <tr>\n",
       "      <th>2633</th>\n",
       "      <td>i want to use it in regression it is best? necessary? to do a log transformation first to get it into a gaussian form depends you can do other transformation like scaling and log but if your data is skewed already how good can it be? what is your objective? to get a better accuracy score? or do a hypothesis test? why not try both side by side to determine the difference? i personally have seen log transformation do very well for clustering for linear models could very well do the same but it depends on what your y is</td>\n",
       "      <td>DIRECT</td>\n",
       "    </tr>\n",
       "    <tr>\n",
       "      <th>648</th>\n",
       "      <td>i read heard somewhere that most of the time as a ds you ll be doing mainly data cleaning preprocessing how accurate is that?</td>\n",
       "      <td>DIRECT</td>\n",
       "    </tr>\n",
       "    <tr>\n",
       "      <th>1451</th>\n",
       "      <td>i have a pandas df that contains a lot of data but has different ids i would like to parse only the last row of every id and it would be even better if i could target specific column from the last row directly but that may be an overkill i ve tried this but it doesn t work any ideas? for i in range 0 h df userid i iloc 1 i just get keyerror false</td>\n",
       "      <td>DIRECT</td>\n",
       "    </tr>\n",
       "    <tr>\n",
       "      <th>2105</th>\n",
       "      <td>hey folks do you think it would be a good idea if we would have a bi monthly presentation by members of this discord to share what they have been doing in the data science space?</td>\n",
       "      <td>DIRECT</td>\n",
       "    </tr>\n",
       "  </tbody>\n",
       "</table>\n",
       "</div>"
      ],
      "text/plain": [
       "                                                                                                                                                                                                                                                                                                                                                                                                                                                                                                                                                                                                                                                                                                                                                                 question  \\\n",
       "2183  hey everyone i m a backed engineer dabbling with bigdata as a personal interest i have implemented a java based mapreduce application for one our project requirement what this does is read data from a hive table process it and write to a hive table we are using aws emr as our datalake solution and i m going to create a new emr run this app against our old data my question is is it possible someone with better knowledge about aws instance types and let me know what instance types should i choose for my master core and task nodes for my new emr? because our current production emr use m xlarge instances for each node types master core and task and based on my little research i think that s not the best choose for datalake tasks tia    \n",
       "97                                                                                                                                                                                                                                                                                                                                                                                                                                                                                                                                                                                                                                                                                                                                   what product does mrs olsen promote    \n",
       "0                                                                                                                                                                                                                                                                                                                                                                                                                                                                                                                                                                                                                                                                                                                                         then why separate bi platforms?   \n",
       "3731                                                                                                                                                                                                                                                                                                                                                                                                                                               have any of you worked in ocean chemistry or ocean climate related fields? i have been working on some datasets and i am struggling with some new terms and to analyse the whole situation i got to understand them can anyone please help to understand or show some links or resources on those keywords? thank you    \n",
       "583                                                                                                                                                                                                                                                                                                                                                                                                                                                                                                                               if doing it like you describe is the common best way to do it then i ll do it like that it just sounded like a hacky solution to me to append your other features like that but to be fair i ve no idea how things work under the hood    \n",
       "97                                                                                                                                                                                                                                                                                                                                                                                                                                                                                                                                                                                                                                                                                                                                        what is the nature of learning    \n",
       "2633                                                                                                                                                                                                                          i want to use it in regression it is best? necessary? to do a log transformation first to get it into a gaussian form depends you can do other transformation like scaling and log but if your data is skewed already how good can it be? what is your objective? to get a better accuracy score? or do a hypothesis test? why not try both side by side to determine the difference? i personally have seen log transformation do very well for clustering for linear models could very well do the same but it depends on what your y is    \n",
       "648                                                                                                                                                                                                                                                                                                                                                                                                                                                                                                                                                                                                                                         i read heard somewhere that most of the time as a ds you ll be doing mainly data cleaning preprocessing how accurate is that?   \n",
       "1451                                                                                                                                                                                                                                                                                                                                                                                                         i have a pandas df that contains a lot of data but has different ids i would like to parse only the last row of every id and it would be even better if i could target specific column from the last row directly but that may be an overkill i ve tried this but it doesn t work any ideas? for i in range 0 h df userid i iloc 1 i just get keyerror false   \n",
       "2105                                                                                                                                                                                                                                                                                                                                                                                                                                                                                                                                                                                   hey folks do you think it would be a good idea if we would have a bi monthly presentation by members of this discord to share what they have been doing in the data science space?   \n",
       "\n",
       "       label  \n",
       "2183  DIRECT  \n",
       "97    DIRECT  \n",
       "0     DIRECT  \n",
       "3731  DIRECT  \n",
       "583   DIRECT  \n",
       "97    DIRECT  \n",
       "2633  DIRECT  \n",
       "648   DIRECT  \n",
       "1451  DIRECT  \n",
       "2105  DIRECT  "
      ]
     },
     "execution_count": 56,
     "metadata": {},
     "output_type": "execute_result"
    }
   ],
   "source": [
    "Df_Train[Df_Train['label']=='DIRECT'].sample(10)"
   ]
  },
  {
   "cell_type": "code",
   "execution_count": 57,
   "id": "1a323bcb-8a57-4e26-a5b6-deaad1e493c6",
   "metadata": {},
   "outputs": [
    {
     "data": {
      "text/html": [
       "<div>\n",
       "<style scoped>\n",
       "    .dataframe tbody tr th:only-of-type {\n",
       "        vertical-align: middle;\n",
       "    }\n",
       "\n",
       "    .dataframe tbody tr th {\n",
       "        vertical-align: top;\n",
       "    }\n",
       "\n",
       "    .dataframe thead th {\n",
       "        text-align: right;\n",
       "    }\n",
       "</style>\n",
       "<table border=\"1\" class=\"dataframe\">\n",
       "  <thead>\n",
       "    <tr style=\"text-align: right;\">\n",
       "      <th></th>\n",
       "      <th>question</th>\n",
       "      <th>label</th>\n",
       "      <th>wordCount</th>\n",
       "    </tr>\n",
       "  </thead>\n",
       "  <tbody>\n",
       "    <tr>\n",
       "      <th>0</th>\n",
       "      <td>then why separate bi platforms?</td>\n",
       "      <td>DIRECT</td>\n",
       "      <td>5</td>\n",
       "    </tr>\n",
       "    <tr>\n",
       "      <th>1</th>\n",
       "      <td>for what books and courses or whatever?</td>\n",
       "      <td>DIRECT</td>\n",
       "      <td>7</td>\n",
       "    </tr>\n",
       "    <tr>\n",
       "      <th>2</th>\n",
       "      <td>how do you use gpu using gensim? could you elaborate?</td>\n",
       "      <td>DIRECT</td>\n",
       "      <td>10</td>\n",
       "    </tr>\n",
       "    <tr>\n",
       "      <th>3</th>\n",
       "      <td>would any expert in user experience ux be willing to lend their expertise?</td>\n",
       "      <td>PERMISSION</td>\n",
       "      <td>13</td>\n",
       "    </tr>\n",
       "    <tr>\n",
       "      <th>4</th>\n",
       "      <td>where can i ask questions related to r?</td>\n",
       "      <td>PERMISSION</td>\n",
       "      <td>8</td>\n",
       "    </tr>\n",
       "    <tr>\n",
       "      <th>...</th>\n",
       "      <td>...</td>\n",
       "      <td>...</td>\n",
       "      <td>...</td>\n",
       "    </tr>\n",
       "    <tr>\n",
       "      <th>97</th>\n",
       "      <td>what was the name of the cook on rawhide</td>\n",
       "      <td>DIRECT</td>\n",
       "      <td>9</td>\n",
       "    </tr>\n",
       "    <tr>\n",
       "      <th>97</th>\n",
       "      <td>what county is chicago in</td>\n",
       "      <td>DIRECT</td>\n",
       "      <td>5</td>\n",
       "    </tr>\n",
       "    <tr>\n",
       "      <th>97</th>\n",
       "      <td>what is the wingspan of a condor</td>\n",
       "      <td>DIRECT</td>\n",
       "      <td>7</td>\n",
       "    </tr>\n",
       "    <tr>\n",
       "      <th>97</th>\n",
       "      <td>what facial feature typically contains about 55 hairs</td>\n",
       "      <td>DIRECT</td>\n",
       "      <td>8</td>\n",
       "    </tr>\n",
       "    <tr>\n",
       "      <th>97</th>\n",
       "      <td>who was named admiral of the ocean seas and viceroy and governor general of all the islands he might discover and also granted 10</td>\n",
       "      <td>DIRECT</td>\n",
       "      <td>24</td>\n",
       "    </tr>\n",
       "  </tbody>\n",
       "</table>\n",
       "<p>5257 rows × 3 columns</p>\n",
       "</div>"
      ],
      "text/plain": [
       "                                                                                                                              question  \\\n",
       "0                                                                                                      then why separate bi platforms?   \n",
       "1                                                                                              for what books and courses or whatever?   \n",
       "2                                                                                how do you use gpu using gensim? could you elaborate?   \n",
       "3                                                           would any expert in user experience ux be willing to lend their expertise?   \n",
       "4                                                                                              where can i ask questions related to r?   \n",
       "..                                                                                                                                 ...   \n",
       "97                                                                                           what was the name of the cook on rawhide    \n",
       "97                                                                                                          what county is chicago in    \n",
       "97                                                                                                   what is the wingspan of a condor    \n",
       "97                                                                              what facial feature typically contains about 55 hairs    \n",
       "97  who was named admiral of the ocean seas and viceroy and governor general of all the islands he might discover and also granted 10    \n",
       "\n",
       "         label  wordCount  \n",
       "0       DIRECT          5  \n",
       "1       DIRECT          7  \n",
       "2       DIRECT         10  \n",
       "3   PERMISSION         13  \n",
       "4   PERMISSION          8  \n",
       "..         ...        ...  \n",
       "97      DIRECT          9  \n",
       "97      DIRECT          5  \n",
       "97      DIRECT          7  \n",
       "97      DIRECT          8  \n",
       "97      DIRECT         24  \n",
       "\n",
       "[5257 rows x 3 columns]"
      ]
     },
     "execution_count": 57,
     "metadata": {},
     "output_type": "execute_result"
    }
   ],
   "source": [
    "#comparing token counts for each label\n",
    "Df_Train['wordCount']=Df_Train.apply(lambda x: len(x['question'].split()),axis=1)\n",
    "Df_Train"
   ]
  },
  {
   "cell_type": "code",
   "execution_count": 58,
   "id": "45eb5a7b-cf4c-422e-b261-f20d5a26f8cf",
   "metadata": {},
   "outputs": [
    {
     "data": {
      "image/png": "[encoded data removed]",
      "text/plain": [
       "<Figure size 640x480 with 1 Axes>"
      ]
     },
     "metadata": {},
     "output_type": "display_data"
    }
   ],
   "source": [
    "#boxplot to remove long->direct bias\n",
    "plt.boxplot([Df_Train[Df_Train['label']=='PERMISSION']['wordCount'],Df_Train[Df_Train['label']=='DIRECT']['wordCount']],labels=['PERMISSION','DIRECT'])\n",
    "plt.ylabel('Word Count')\n",
    "plt.show()"
   ]
  },
  {
   "cell_type": "code",
   "execution_count": 59,
   "id": "0857ec56-f452-4545-b31e-2757f79c3b66",
   "metadata": {},
   "outputs": [],
   "source": [
    "#truncating outliers:\n",
    "Df_Train = Df_Train.drop(Df_Train[(Df_Train['wordCount'] >= 62)&(Df_Train['label']=='DIRECT')].index)"
   ]
  },
  {
   "cell_type": "code",
   "execution_count": 60,
   "id": "fe7eb0ac-1a4b-4a53-a7fb-af6ff3cefe44",
   "metadata": {},
   "outputs": [
    {
     "data": {
      "image/png": "[encoded data removed]",
      "text/plain": [
       "<Figure size 640x480 with 1 Axes>"
      ]
     },
     "metadata": {},
     "output_type": "display_data"
    }
   ],
   "source": [
    "#boxplot after truncation\n",
    "plt.boxplot([Df_Train[Df_Train['label']=='PERMISSION']['wordCount'],Df_Train[Df_Train['label']=='DIRECT']['wordCount']],labels=['PERMISSION','DIRECT'])\n",
    "plt.ylabel('Word Count')\n",
    "plt.show()"
   ]
  },
  {
   "cell_type": "code",
   "execution_count": 61,
   "id": "6d000d46-7d2c-4e01-ac2c-fad8a6980abd",
   "metadata": {},
   "outputs": [
    {
     "name": "stdout",
     "output_type": "stream",
     "text": [
      "direct--> 2617  Permission--> 2360\n"
     ]
    }
   ],
   "source": [
    "#label comparison after truncation:\n",
    "print('direct-->',len(Df_Train[Df_Train['label']=='DIRECT']),' Permission-->',len(Df_Train[Df_Train['label']=='PERMISSION']))"
   ]
  },
  {
   "cell_type": "code",
   "execution_count": 62,
   "id": "359e6ad8-c4a5-4ed1-82f4-a498c84e80e5",
   "metadata": {},
   "outputs": [],
   "source": [
    "Df_Train.to_csv('DfTrain_v2.csv')"
   ]
  },
  {
   "cell_type": "code",
   "execution_count": 231,
   "id": "b5206336-d16f-49ab-afb6-31d27e36b80d",
   "metadata": {},
   "outputs": [],
   "source": [
    "from gensim.models.doc2vec import Doc2Vec, TaggedDocument\n",
    "from gensim.models.word2vec import Word2Vec\n",
    "\n",
    "import gensim\n",
    " "
   ]
  },
  {
   "cell_type": "code",
   "execution_count": 340,
   "id": "567075fe-129a-4309-830f-a6baa71837bf",
   "metadata": {},
   "outputs": [],
   "source": [
    "from sklearn.model_selection import train_test_split\n",
    "from sklearn.ensemble import RandomForestClassifier\n",
    "from sklearn.utils import shuffle\n",
    "from sklearn.metrics import classification_report"
   ]
  },
  {
   "cell_type": "code",
   "execution_count": 307,
   "id": "a4376257-a17e-43c1-97d8-2859f39eaa18",
   "metadata": {},
   "outputs": [],
   "source": [
    "from sklearn.ensemble import RandomForestClassifier\n"
   ]
  },
  {
   "cell_type": "code",
   "execution_count": 65,
   "id": "4f21ba42-c8c4-4339-ba14-601dd97a0adc",
   "metadata": {},
   "outputs": [],
   "source": [
    "# Permission 1 --  direct 0 :\n",
    "\n",
    "Df_Train['label']=np.where(Df_Train['label']=='PERMISSION',1,0)"
   ]
  },
  {
   "cell_type": "code",
   "execution_count": 67,
   "id": "6771982b-976d-413b-8d6d-d66eabe959ae",
   "metadata": {},
   "outputs": [
    {
     "data": {
      "text/html": [
       "<div>\n",
       "<style scoped>\n",
       "    .dataframe tbody tr th:only-of-type {\n",
       "        vertical-align: middle;\n",
       "    }\n",
       "\n",
       "    .dataframe tbody tr th {\n",
       "        vertical-align: top;\n",
       "    }\n",
       "\n",
       "    .dataframe thead th {\n",
       "        text-align: right;\n",
       "    }\n",
       "</style>\n",
       "<table border=\"1\" class=\"dataframe\">\n",
       "  <thead>\n",
       "    <tr style=\"text-align: right;\">\n",
       "      <th></th>\n",
       "      <th>question</th>\n",
       "      <th>label</th>\n",
       "      <th>wordCount</th>\n",
       "    </tr>\n",
       "  </thead>\n",
       "  <tbody>\n",
       "    <tr>\n",
       "      <th>3</th>\n",
       "      <td>would any expert in user experience ux be willing to lend their expertise?</td>\n",
       "      <td>1</td>\n",
       "      <td>13</td>\n",
       "    </tr>\n",
       "    <tr>\n",
       "      <th>4</th>\n",
       "      <td>where can i ask questions related to r?</td>\n",
       "      <td>1</td>\n",
       "      <td>8</td>\n",
       "    </tr>\n",
       "    <tr>\n",
       "      <th>7</th>\n",
       "      <td>any compliance pros around?</td>\n",
       "      <td>1</td>\n",
       "      <td>4</td>\n",
       "    </tr>\n",
       "    <tr>\n",
       "      <th>8</th>\n",
       "      <td>anyone experienced with incident response and management?</td>\n",
       "      <td>1</td>\n",
       "      <td>7</td>\n",
       "    </tr>\n",
       "    <tr>\n",
       "      <th>9</th>\n",
       "      <td>can i ask a question about doing exercises?</td>\n",
       "      <td>1</td>\n",
       "      <td>8</td>\n",
       "    </tr>\n",
       "    <tr>\n",
       "      <th>...</th>\n",
       "      <td>...</td>\n",
       "      <td>...</td>\n",
       "      <td>...</td>\n",
       "    </tr>\n",
       "    <tr>\n",
       "      <th>4514</th>\n",
       "      <td>hello friend i m a music aficionado exploring classical music i m listening to orchestral pieces and i have a question about musical notation can i seek assistance from the community?</td>\n",
       "      <td>1</td>\n",
       "      <td>31</td>\n",
       "    </tr>\n",
       "    <tr>\n",
       "      <th>4515</th>\n",
       "      <td>hey ther i m a diy crafter making handmade gifts for friends i m crafting personalized cards and i have a question about calligraphy techniques would anyone be able to provide some guidance?</td>\n",
       "      <td>1</td>\n",
       "      <td>33</td>\n",
       "    </tr>\n",
       "    <tr>\n",
       "      <th>4516</th>\n",
       "      <td>greetings folk i m an animal lover volunteering at a shelter i m socializing with rescue dogs and i have a question about dog behavior can i seek assistance from the community?</td>\n",
       "      <td>1</td>\n",
       "      <td>32</td>\n",
       "    </tr>\n",
       "    <tr>\n",
       "      <th>4517</th>\n",
       "      <td>hello al i m a gardening enthusiast planting a vegetable garden i m choosing seeds and i have a question about companion planting is it okay if i ask for help here?</td>\n",
       "      <td>1</td>\n",
       "      <td>32</td>\n",
       "    </tr>\n",
       "    <tr>\n",
       "      <th>4518</th>\n",
       "      <td>good afternoon everyon i m a diy fashionista sewing my own clothes i m creating a dress and i have a question about pattern adjustments can i pose it to the community?</td>\n",
       "      <td>1</td>\n",
       "      <td>32</td>\n",
       "    </tr>\n",
       "  </tbody>\n",
       "</table>\n",
       "<p>2360 rows × 3 columns</p>\n",
       "</div>"
      ],
      "text/plain": [
       "                                                                                                                                                                                            question  \\\n",
       "3                                                                                                                         would any expert in user experience ux be willing to lend their expertise?   \n",
       "4                                                                                                                                                            where can i ask questions related to r?   \n",
       "7                                                                                                                                                                        any compliance pros around?   \n",
       "8                                                                                                                                          anyone experienced with incident response and management?   \n",
       "9                                                                                                                                                        can i ask a question about doing exercises?   \n",
       "...                                                                                                                                                                                              ...   \n",
       "4514         hello friend i m a music aficionado exploring classical music i m listening to orchestral pieces and i have a question about musical notation can i seek assistance from the community?   \n",
       "4515  hey ther i m a diy crafter making handmade gifts for friends i m crafting personalized cards and i have a question about calligraphy techniques would anyone be able to provide some guidance?   \n",
       "4516                greetings folk i m an animal lover volunteering at a shelter i m socializing with rescue dogs and i have a question about dog behavior can i seek assistance from the community?   \n",
       "4517                            hello al i m a gardening enthusiast planting a vegetable garden i m choosing seeds and i have a question about companion planting is it okay if i ask for help here?   \n",
       "4518                         good afternoon everyon i m a diy fashionista sewing my own clothes i m creating a dress and i have a question about pattern adjustments can i pose it to the community?   \n",
       "\n",
       "      label  wordCount  \n",
       "3         1         13  \n",
       "4         1          8  \n",
       "7         1          4  \n",
       "8         1          7  \n",
       "9         1          8  \n",
       "...     ...        ...  \n",
       "4514      1         31  \n",
       "4515      1         33  \n",
       "4516      1         32  \n",
       "4517      1         32  \n",
       "4518      1         32  \n",
       "\n",
       "[2360 rows x 3 columns]"
      ]
     },
     "execution_count": 67,
     "metadata": {},
     "output_type": "execute_result"
    }
   ],
   "source": []
  },
  {
   "cell_type": "markdown",
   "id": "bdcee169-ae9f-41b3-963f-2be6c858e218",
   "metadata": {},
   "source": [
    "## Word Embedding using Word2Vec"
   ]
  },
  {
   "cell_type": "code",
   "execution_count": null,
   "id": "a9e82cba-b031-48a6-ab24-f8efe80308d3",
   "metadata": {},
   "outputs": [],
   "source": [
    "Df_shuffled=Df_Train.sample(frac=1)\n",
    "Df_shuffled=Df_shuffled.reset_index(drop=True)\n",
    "Df_shuffled"
   ]
  },
  {
   "cell_type": "code",
   "execution_count": 388,
   "id": "cc0e0628-de2f-463c-a27f-f738c9ca0d33",
   "metadata": {},
   "outputs": [],
   "source": [
    "DF_embedd=Df_shuffled['question'].copy()"
   ]
  },
  {
   "cell_type": "code",
   "execution_count": 389,
   "id": "cadecdd7-443f-44bc-ac33-6a4115ac0c8b",
   "metadata": {},
   "outputs": [
    {
     "data": {
      "text/plain": [
       "0                                                                                                                         why do you need all the time sota ?\n",
       "1                                                                                                what is the abbreviation of the company name general motors \n",
       "2                                                                                                                                   why not take a bachelors?\n",
       "3           is it better to view test data and figure out a pattern so that we can train the model accordingly? also should i worry about data snooping bias?\n",
       "4                                                                                                                             who know how to code in python?\n",
       "                                                                                ...                                                                          \n",
       "4977    how relevant is that stuff to what you want to do? cause i feel like all the major advancements in that space have happened through deep learning no?\n",
       "4978                                                                                          could anyone proficient in data encryption offer some guidance?\n",
       "4979                                                                                                is there anyone who knows about cloud native development?\n",
       "4980                                                                                                                         anyone skilled in model serving?\n",
       "4981      has anyone tried the wps office free excel in data analyst? i want to use that because it s free but i don t sure it can work well in data analyst \n",
       "Name: question, Length: 4982, dtype: object"
      ]
     },
     "execution_count": 389,
     "metadata": {},
     "output_type": "execute_result"
    }
   ],
   "source": [
    "DF_embedd"
   ]
  },
  {
   "cell_type": "code",
   "execution_count": 390,
   "id": "d8cd6d76-b89f-4b84-b172-eabb3b0d7711",
   "metadata": {},
   "outputs": [],
   "source": [
    "from gensim.utils import simple_preprocess\n",
    "textrev=DF_embedd.apply(simple_preprocess)\n",
    "# Tokenize the text data into words\n"
   ]
  },
  {
   "cell_type": "code",
   "execution_count": 410,
   "id": "b660dbf0-288e-4b48-a5aa-4bfa82e4aad7",
   "metadata": {},
   "outputs": [
    {
     "name": "stdout",
     "output_type": "stream",
     "text": [
      "CPU times: user 1.18 s, sys: 19.8 ms, total: 1.2 s\n",
      "Wall time: 610 ms\n"
     ]
    },
    {
     "data": {
      "text/plain": [
       "(217377, 321465)"
      ]
     },
     "execution_count": 410,
     "metadata": {},
     "output_type": "execute_result"
    }
   ],
   "source": [
    "%%time\n",
    "#model initialisation\n",
    "model=gensim.models.Word2Vec(vector_size=300,\n",
    "              window=3,\n",
    "              min_count=2,\n",
    "              workers=4,\n",
    "              sg=0\n",
    "                             \n",
    "              )\n",
    "\n",
    "\n",
    "\n",
    "\n",
    "model.build_vocab(textrev)\n",
    "model.train(textrev,\n",
    "            total_examples=model.corpus_count,\n",
    "            epochs=model.epochs)\n",
    "\n",
    "\n",
    "\n"
   ]
  },
  {
   "cell_type": "code",
   "execution_count": 519,
   "id": "f1c11086-e959-420b-9b2f-31b11eb9040c",
   "metadata": {
    "scrolled": true
   },
   "outputs": [
    {
     "data": {
      "text/plain": [
       "[('assist', 0.9987198114395142),\n",
       " ('familiar', 0.9984508156776428),\n",
       " ('who', 0.9984242916107178),\n",
       " ('could', 0.9982808828353882),\n",
       " ('css', 0.9981539845466614),\n",
       " ('proficient', 0.9980864524841309),\n",
       " ('in', 0.9980760216712952),\n",
       " ('knows', 0.9980208277702332),\n",
       " ('html', 0.9980124831199646),\n",
       " ('risk', 0.9979928135871887)]"
      ]
     },
     "execution_count": 519,
     "metadata": {},
     "output_type": "execute_result"
    }
   ],
   "source": [
    "model.wv.most_similar('anyone')"
   ]
  },
  {
   "cell_type": "code",
   "execution_count": 532,
   "id": "ff19da0c-c90f-4d4d-8c59-971c6b52fefe",
   "metadata": {},
   "outputs": [
    {
     "data": {
      "text/plain": [
       "[('unless', 0.959563672542572),\n",
       " ('anything', 0.9578254818916321),\n",
       " ('if', 0.9572886824607849),\n",
       " ('else', 0.9554340243339539),\n",
       " ('anybody', 0.9532617330551147),\n",
       " ('either', 0.9479489922523499),\n",
       " ('there', 0.9472057819366455),\n",
       " ('when', 0.9461482763290405),\n",
       " ('need', 0.9445397257804871),\n",
       " ('find', 0.9440227150917053)]"
      ]
     },
     "execution_count": 532,
     "metadata": {},
     "output_type": "execute_result"
    }
   ],
   "source": [
    "model_glove.most_similar('anyone')"
   ]
  },
  {
   "cell_type": "code",
   "execution_count": 524,
   "id": "1ed88ff1-f466-4f9c-ba81-5400cef1bf0d",
   "metadata": {
    "scrolled": true
   },
   "outputs": [
    {
     "name": "stdout",
     "output_type": "stream",
     "text": [
      "['how', 0.0, 0.0, 0.0, 0.0, 0.0, 0.0, 0.0, 0.0, 0.0, 0.0, 0.0, 0.0, 0.0, 0.0, 0.0, 0.0, 0.0, 0.0, 0.0, 'anyone', 0.0, 0.0, 0.0, 0.0, 0.0, 0.0, 0.0, 0.0, 0.0, 0.0, 0.0, 0.0, 0.0, 0.0, 0.0, 0.0, 0.0, 0.0, 0.0]\n"
     ]
    },
    {
     "data": {
      "text/plain": [
       "array([ 0.01207057,  0.07150717,  0.0046545 ,  0.01424412, -0.01880872,\n",
       "       -0.10554507,  0.05330317,  0.16571358,  0.02305815, -0.04155353,\n",
       "       -0.00561472, -0.09153571,  0.00459182,  0.00520036, -0.05884845,\n",
       "       -0.05794418,  0.07050189,  0.00393798,  0.03859274, -0.04614386,\n",
       "       -0.04651482, -0.0271339 ,  0.05547633,  0.03010191,  0.06286279,\n",
       "       -0.01167689, -0.11774923,  0.00900171, -0.056864  , -0.08877832,\n",
       "        0.03232506, -0.04013234,  0.03974978,  0.01032521, -0.0169813 ,\n",
       "        0.05510136,  0.03679106, -0.08278462, -0.00017213,  0.01135687,\n",
       "       -0.04590449,  0.00547926, -0.00137719, -0.05100992,  0.04986475,\n",
       "        0.07620259,  0.04548108,  0.0051021 ,  0.02441861,  0.06043297,\n",
       "        0.02274686,  0.03085974, -0.02016582,  0.05516995, -0.00409883,\n",
       "        0.06444235,  0.02365513,  0.02823985,  0.02361169,  0.00108981,\n",
       "       -0.00364826, -0.02472164,  0.00445486,  0.04933156, -0.01555113,\n",
       "        0.0190211 ,  0.02951199,  0.01285808, -0.04791927,  0.00566411,\n",
       "       -0.00367985,  0.02176288,  0.06490719, -0.04789922,  0.02537729,\n",
       "        0.01964706, -0.05753801,  0.02083872, -0.02780888,  0.07095733,\n",
       "       -0.01942942, -0.07033759,  0.02366124,  0.1606873 ,  0.01174923,\n",
       "        0.00555735, -0.06721286,  0.01479721,  0.11071354,  0.04297903,\n",
       "        0.0976961 , -0.0463346 ,  0.02375964,  0.01907429,  0.09937271,\n",
       "        0.08401202,  0.05546957, -0.01481806, -0.05914345,  0.05310932,\n",
       "       -0.02292531,  0.02436179,  0.05281161,  0.00961053,  0.0018388 ,\n",
       "       -0.0600714 , -0.02235386,  0.02133319, -0.08781709, -0.00278598,\n",
       "       -0.08980058, -0.04909098,  0.0059767 ,  0.07136798,  0.03270073,\n",
       "        0.06189507, -0.01013103, -0.02569519,  0.09421879, -0.09268424,\n",
       "        0.06220359,  0.06681915,  0.0487842 , -0.00389245, -0.03126856,\n",
       "        0.04963206,  0.02200975, -0.05793477,  0.00065636,  0.07868816,\n",
       "        0.03301385,  0.09447069,  0.02705252, -0.08801913,  0.03105985,\n",
       "        0.06200562, -0.00582554, -0.07905786, -0.12086496, -0.10708588,\n",
       "       -0.00533515, -0.11118013, -0.04569725,  0.04857045,  0.04513032,\n",
       "       -0.05698288, -0.08874903, -0.05498419,  0.04587964, -0.04276938,\n",
       "        0.01743219, -0.1458618 , -0.03977036, -0.03593506, -0.02268789,\n",
       "        0.03603385, -0.10373169, -0.0416415 , -0.0218918 ,  0.08437696,\n",
       "        0.00665525,  0.02682972, -0.10445118,  0.05721481, -0.04722774,\n",
       "        0.01759368, -0.01859782,  0.01060021,  0.01335812,  0.17064105,\n",
       "       -0.05821341,  0.03097975,  0.02895199,  0.02038867,  0.01013697,\n",
       "        0.02627664,  0.00046924, -0.08995352,  0.02112937,  0.00874131,\n",
       "       -0.02138228,  0.06483658, -0.08005739, -0.03651869, -0.04922976,\n",
       "       -0.00301524,  0.11293139,  0.11749752,  0.02548195, -0.0924418 ,\n",
       "        0.01181449,  0.00050108, -0.0901916 , -0.01599979,  0.02912833,\n",
       "       -0.05605476,  0.02634149, -0.05186143,  0.01198476, -0.00996787,\n",
       "       -0.0646299 ,  0.00962595, -0.03748118, -0.05320176, -0.00705111,\n",
       "       -0.02569058, -0.04911657,  0.04501159, -0.00864741, -0.0256126 ,\n",
       "       -0.01542203, -0.08063307, -0.00615813, -0.02137353,  0.03018245,\n",
       "       -0.08723149, -0.0385958 , -0.17090014, -0.1028367 , -0.06289998,\n",
       "        0.08199634,  0.01006308, -0.03963083, -0.0481444 , -0.04658682,\n",
       "       -0.02631536,  0.0351499 , -0.01846137, -0.0785173 ,  0.01898294,\n",
       "        0.070362  , -0.0220144 , -0.07376817,  0.08419257, -0.04988113,\n",
       "        0.00974191, -0.01703237,  0.01721278, -0.00498762, -0.14754595,\n",
       "        0.01453557, -0.02052925, -0.02941122, -0.00282482,  0.00343659,\n",
       "       -0.12918957,  0.00375792,  0.01835294,  0.0073696 ,  0.04492845,\n",
       "        0.03411536,  0.02066935,  0.0657775 , -0.00857399, -0.10994418,\n",
       "       -0.04497257,  0.11508472,  0.04190159, -0.12535127, -0.06105211,\n",
       "        0.07787815,  0.05182526,  0.04381723, -0.13170303, -0.09928164,\n",
       "       -0.00050101,  0.05715654,  0.0753815 , -0.06974968,  0.0363212 ,\n",
       "       -0.03952369, -0.00886391,  0.00906677, -0.01074528,  0.09762637,\n",
       "        0.02631957,  0.08706652,  0.06384621, -0.07937451, -0.01682716,\n",
       "        0.02633901,  0.00690935, -0.03236991,  0.01557361, -0.01103519,\n",
       "       -0.02300114, -0.09062985,  0.06246916,  0.03039464,  0.10327208,\n",
       "        0.03658991,  0.10903263,  0.08856612,  0.033252  ,  0.08542062,\n",
       "        0.12779206,  0.02878897, -0.05766682,  0.03562334,  0.02364768],\n",
       "      dtype=float32)"
      ]
     },
     "execution_count": 524,
     "metadata": {},
     "output_type": "execute_result"
    }
   ],
   "source": [
    "\n",
    "def pad_or_truncate_list(lst, target_length):\n",
    "  \n",
    "   # Pad or truncate a list to the specified target length.\n",
    " \n",
    "    if len(lst) < target_length:\n",
    "        # Pad the list with zeros\n",
    "        lst += [0.0] * (target_length - len(lst))\n",
    "    elif len(lst) > target_length:\n",
    "        # Truncate the list to the target length\n",
    "        lst = lst[:target_length]\n",
    "    return lst\n",
    "\n",
    "# Define the maximum length of the lists\n",
    "max_length = 20\n",
    "\n",
    "# Split the input strings into lists of words\n",
    "list1 = str.split('how')\n",
    "#list2 = str.split('where can i ask questions related to r?')\n",
    "list2 = str.split('anyone')\n",
    "\n",
    "# Pad or truncate the lists to the maximum length\n",
    "list1 = pad_or_truncate_list(list1, max_length)\n",
    "list2 = pad_or_truncate_list(list2, max_length)\n",
    "\n",
    "finlist=list1+list2\n",
    "print(finlist)\n",
    "#model.wv.get_mean_vector(list1,list2)\n",
    "model.wv.get_mean_vector(finlist)"
   ]
  },
  {
   "cell_type": "code",
   "execution_count": null,
   "id": "6fd6cac8-2047-44e9-98af-8a0b9b16e630",
   "metadata": {},
   "outputs": [],
   "source": [
    "for i, v in enumerate(X_train_vect):\n",
    "    print(len(X_train.iloc[i]), len(v))"
   ]
  },
  {
   "cell_type": "code",
   "execution_count": 533,
   "id": "5a45ed3f-8cef-4649-8c7a-14286dfd79d4",
   "metadata": {},
   "outputs": [],
   "source": [
    "#func to get sentence vector:\n",
    "def prep_and_vec(text):\n",
    "    dok=nlp(text)#spacy doc object\n",
    "    filtered_tokens=[]\n",
    "    for token in dok:\n",
    "        if token.is_punct:\n",
    "            continue\n",
    "        filtered_tokens.append(token.text)\n",
    "    return model_glove.get_mean_vector(filtered_tokens)\n",
    "\n",
    "\n"
   ]
  },
  {
   "cell_type": "code",
   "execution_count": 522,
   "id": "fd3426d7-01e6-4c4c-8d9c-f89129ab3ae2",
   "metadata": {
    "scrolled": true
   },
   "outputs": [
    {
     "data": {
      "text/plain": [
       "array([ 0.01207057,  0.07150717,  0.0046545 ,  0.01424412, -0.01880872,\n",
       "       -0.10554507,  0.05330317,  0.16571358,  0.02305815, -0.04155353,\n",
       "       -0.00561472, -0.09153571,  0.00459182,  0.00520036, -0.05884845,\n",
       "       -0.05794418,  0.07050189,  0.00393798,  0.03859274, -0.04614386,\n",
       "       -0.04651482, -0.0271339 ,  0.05547633,  0.03010191,  0.06286279,\n",
       "       -0.01167689, -0.11774923,  0.00900171, -0.056864  , -0.08877832,\n",
       "        0.03232506, -0.04013234,  0.03974978,  0.01032521, -0.0169813 ,\n",
       "        0.05510136,  0.03679106, -0.08278462, -0.00017213,  0.01135687,\n",
       "       -0.04590449,  0.00547926, -0.00137719, -0.05100992,  0.04986475,\n",
       "        0.07620259,  0.04548108,  0.0051021 ,  0.02441861,  0.06043297,\n",
       "        0.02274686,  0.03085974, -0.02016582,  0.05516995, -0.00409883,\n",
       "        0.06444235,  0.02365513,  0.02823985,  0.02361169,  0.00108981,\n",
       "       -0.00364826, -0.02472164,  0.00445486,  0.04933156, -0.01555113,\n",
       "        0.0190211 ,  0.02951199,  0.01285808, -0.04791927,  0.00566411,\n",
       "       -0.00367985,  0.02176288,  0.06490719, -0.04789922,  0.02537729,\n",
       "        0.01964706, -0.05753801,  0.02083872, -0.02780888,  0.07095733,\n",
       "       -0.01942942, -0.07033759,  0.02366124,  0.1606873 ,  0.01174923,\n",
       "        0.00555735, -0.06721286,  0.01479721,  0.11071354,  0.04297903,\n",
       "        0.0976961 , -0.0463346 ,  0.02375964,  0.01907429,  0.09937271,\n",
       "        0.08401202,  0.05546957, -0.01481806, -0.05914345,  0.05310932,\n",
       "       -0.02292531,  0.02436179,  0.05281161,  0.00961053,  0.0018388 ,\n",
       "       -0.0600714 , -0.02235386,  0.02133319, -0.08781709, -0.00278598,\n",
       "       -0.08980058, -0.04909098,  0.0059767 ,  0.07136798,  0.03270073,\n",
       "        0.06189507, -0.01013103, -0.02569519,  0.09421879, -0.09268424,\n",
       "        0.06220359,  0.06681915,  0.0487842 , -0.00389245, -0.03126856,\n",
       "        0.04963206,  0.02200975, -0.05793477,  0.00065636,  0.07868816,\n",
       "        0.03301385,  0.09447069,  0.02705252, -0.08801913,  0.03105985,\n",
       "        0.06200562, -0.00582554, -0.07905786, -0.12086496, -0.10708588,\n",
       "       -0.00533515, -0.11118013, -0.04569725,  0.04857045,  0.04513032,\n",
       "       -0.05698288, -0.08874903, -0.05498419,  0.04587964, -0.04276938,\n",
       "        0.01743219, -0.1458618 , -0.03977036, -0.03593506, -0.02268789,\n",
       "        0.03603385, -0.10373169, -0.0416415 , -0.0218918 ,  0.08437696,\n",
       "        0.00665525,  0.02682972, -0.10445118,  0.05721481, -0.04722774,\n",
       "        0.01759368, -0.01859782,  0.01060021,  0.01335812,  0.17064105,\n",
       "       -0.05821341,  0.03097975,  0.02895199,  0.02038867,  0.01013697,\n",
       "        0.02627664,  0.00046924, -0.08995352,  0.02112937,  0.00874131,\n",
       "       -0.02138228,  0.06483658, -0.08005739, -0.03651869, -0.04922976,\n",
       "       -0.00301524,  0.11293139,  0.11749752,  0.02548195, -0.0924418 ,\n",
       "        0.01181449,  0.00050108, -0.0901916 , -0.01599979,  0.02912833,\n",
       "       -0.05605476,  0.02634149, -0.05186143,  0.01198476, -0.00996787,\n",
       "       -0.0646299 ,  0.00962595, -0.03748118, -0.05320176, -0.00705111,\n",
       "       -0.02569058, -0.04911657,  0.04501159, -0.00864741, -0.0256126 ,\n",
       "       -0.01542203, -0.08063307, -0.00615813, -0.02137353,  0.03018245,\n",
       "       -0.08723149, -0.0385958 , -0.17090014, -0.1028367 , -0.06289998,\n",
       "        0.08199634,  0.01006308, -0.03963083, -0.0481444 , -0.04658682,\n",
       "       -0.02631536,  0.0351499 , -0.01846137, -0.0785173 ,  0.01898294,\n",
       "        0.070362  , -0.0220144 , -0.07376817,  0.08419257, -0.04988113,\n",
       "        0.00974191, -0.01703237,  0.01721278, -0.00498762, -0.14754595,\n",
       "        0.01453557, -0.02052925, -0.02941122, -0.00282482,  0.00343659,\n",
       "       -0.12918957,  0.00375792,  0.01835294,  0.0073696 ,  0.04492845,\n",
       "        0.03411536,  0.02066935,  0.0657775 , -0.00857399, -0.10994418,\n",
       "       -0.04497257,  0.11508472,  0.04190159, -0.12535127, -0.06105211,\n",
       "        0.07787815,  0.05182526,  0.04381723, -0.13170303, -0.09928164,\n",
       "       -0.00050101,  0.05715654,  0.0753815 , -0.06974968,  0.0363212 ,\n",
       "       -0.03952369, -0.00886391,  0.00906677, -0.01074528,  0.09762637,\n",
       "        0.02631957,  0.08706652,  0.06384621, -0.07937451, -0.01682716,\n",
       "        0.02633901,  0.00690935, -0.03236991,  0.01557361, -0.01103519,\n",
       "       -0.02300114, -0.09062985,  0.06246916,  0.03039464,  0.10327208,\n",
       "        0.03658991,  0.10903263,  0.08856612,  0.033252  ,  0.08542062,\n",
       "        0.12779206,  0.02878897, -0.05766682,  0.03562334,  0.02364768],\n",
       "      dtype=float32)"
      ]
     },
     "execution_count": 522,
     "metadata": {},
     "output_type": "execute_result"
    }
   ],
   "source": [
    "#testing function:\n",
    "prep_and_vec('anyone how')"
   ]
  },
  {
   "cell_type": "code",
   "execution_count": 450,
   "id": "ab4936c8-3f5a-43ba-a3ad-b05b00833c78",
   "metadata": {},
   "outputs": [],
   "source": [
    "#averaging all the vectors in a sentence/question\n",
    "index2word_set = set(model.wv.index_to_key) #index / lookup table in the embedding matrix \n",
    "\n",
    "def avg_feature_vector(sentence,  num_features, index2word_set):\n",
    "    words = sentence.split()#words in sentence List()\n",
    "    feature_vec = np.zeros((num_features, ), dtype='float32')#vec array empty to be filled later\n",
    "    n_words = 0\n",
    "    for word in words:#for word in sentence 0\n",
    "        if word in index2word_set: #if word in vocab\n",
    "            n_words += 1\n",
    "            feature_vec = np.add(feature_vec, model.wv[word])#might change this to model.wv\n",
    "    if (n_words > 0):\n",
    "        feature_vec = np.divide(feature_vec, n_words)#averaging over the total num of words in sentence\n",
    "    return feature_vec #averaged vec final "
   ]
  },
  {
   "cell_type": "code",
   "execution_count": null,
   "id": "6eeea4fb-f481-4b30-bc1a-a1cb443fbedd",
   "metadata": {},
   "outputs": [],
   "source": [
    "model.wv['anyone']"
   ]
  },
  {
   "cell_type": "code",
   "execution_count": 455,
   "id": "7c9b23f6-dfca-4a30-bbb9-71f28e71cb69",
   "metadata": {},
   "outputs": [
    {
     "name": "stdout",
     "output_type": "stream",
     "text": [
      "0.9991134405136108\n"
     ]
    }
   ],
   "source": [
    "s1_afv = avg_feature_vector('anyone here please',  num_features=300, index2word_set=index2word_set)\n",
    "s2_afv = avg_feature_vector('html anyone here has a way of doing code wizard plz here', num_features=300, index2word_set=index2word_set)\n",
    "sim = 1 - spatial.distance.cosine(s1_afv, s2_afv)\n",
    "print(sim)\n"
   ]
  },
  {
   "cell_type": "code",
   "execution_count": null,
   "id": "d7ca81d1-9a50-450a-bf78-1566b817b603",
   "metadata": {},
   "outputs": [],
   "source": [
    "!pip install POT"
   ]
  },
  {
   "cell_type": "code",
   "execution_count": 487,
   "id": "3c65c825-1b14-4321-b8b1-f33d23a2be99",
   "metadata": {},
   "outputs": [
    {
     "data": {
      "text/plain": [
       "0.08907713759952651"
      ]
     },
     "execution_count": 487,
     "metadata": {},
     "output_type": "execute_result"
    }
   ],
   "source": [
    "\n",
    "distance = model.wv.wmdistance(['anyone','here','a','wizard','in','python'],['how','can','i','do','how','can','i','do','this','html'])\n",
    "distance"
   ]
  },
  {
   "cell_type": "code",
   "execution_count": 460,
   "id": "ef03571e-8a4f-4a26-ab6b-acb6b87e9b24",
   "metadata": {},
   "outputs": [
    {
     "data": {
      "text/plain": [
       "inf"
      ]
     },
     "execution_count": 460,
     "metadata": {},
     "output_type": "execute_result"
    }
   ],
   "source": [
    "distance"
   ]
  },
  {
   "cell_type": "code",
   "execution_count": 534,
   "id": "e92705e9-098c-44bb-a8c2-d7d7556c039f",
   "metadata": {},
   "outputs": [
    {
     "name": "stdout",
     "output_type": "stream",
     "text": [
      "CPU times: user 59.5 s, sys: 1.09 s, total: 1min\n",
      "Wall time: 1min 20s\n"
     ]
    }
   ],
   "source": [
    "%%time\n",
    "#df adding new vec column\n",
    "Df_shuffled['vec']=Df_shuffled['question'].apply(lambda x: prep_and_vec(x))"
   ]
  },
  {
   "cell_type": "code",
   "execution_count": 536,
   "id": "1c4c4e8f-3534-4e44-9b90-75c9b1dba548",
   "metadata": {
    "scrolled": true
   },
   "outputs": [
    {
     "data": {
      "text/plain": [
       "array([ 8.13543797e-03,  8.27216059e-02,  2.38701832e-02, -1.73362698e-02,\n",
       "       -6.35207891e-02, -3.85480598e-02,  1.74370170e-01, -8.78597610e-04,\n",
       "        1.23749413e-02, -3.00899819e-02, -1.21513933e-01, -3.34151369e-03,\n",
       "       -7.84515083e-01, -2.61531472e-02, -1.11470893e-02, -1.71475094e-02,\n",
       "       -7.13823829e-05, -6.53996840e-02, -3.50258127e-03, -2.52051875e-02,\n",
       "        1.47307385e-02,  6.04266711e-02,  4.22514640e-02,  1.18523855e-02,\n",
       "       -4.33676243e-02], dtype=float32)"
      ]
     },
     "execution_count": 536,
     "metadata": {},
     "output_type": "execute_result"
    }
   ],
   "source": [
    "Df_shuffled['vec'][0]\n"
   ]
  },
  {
   "cell_type": "code",
   "execution_count": 537,
   "id": "2f8a128b-2499-4cc6-adb7-3b1e1faf081b",
   "metadata": {},
   "outputs": [],
   "source": [
    "#train test split\n",
    "\n",
    "X_train, X_test, Y_train, Y_test = train_test_split(Df_shuffled.vec.values, \n",
    "                                                    Df_shuffled.label, \n",
    "                                                    test_size=0.3, \n",
    "                                                    random_state=42)\n"
   ]
  },
  {
   "cell_type": "code",
   "execution_count": 538,
   "id": "f0c5c8db-e6b9-490f-88f3-b2089eeecf36",
   "metadata": {},
   "outputs": [],
   "source": [
    "#Reshaping the xtrain/xtest\n",
    "X_train_flat=np.stack(X_train)\n",
    "X_test_flat=np.stack(X_test)"
   ]
  },
  {
   "cell_type": "code",
   "execution_count": 539,
   "id": "5bbc1707-0e07-4679-a291-dcdad034fb22",
   "metadata": {},
   "outputs": [
    {
     "data": {
      "text/plain": [
       "4346    0\n",
       "1658    0\n",
       "1151    1\n",
       "2550    0\n",
       "647     0\n",
       "       ..\n",
       "4426    1\n",
       "466     0\n",
       "3092    0\n",
       "3772    1\n",
       "860     0\n",
       "Name: label, Length: 3487, dtype: int64"
      ]
     },
     "execution_count": 539,
     "metadata": {},
     "output_type": "execute_result"
    }
   ],
   "source": [
    "Y_train"
   ]
  },
  {
   "cell_type": "code",
   "execution_count": 426,
   "id": "92369d08-731e-46b7-bc02-be9715f64362",
   "metadata": {},
   "outputs": [],
   "source": [
    "from sklearn.svm import LinearSVC"
   ]
  },
  {
   "cell_type": "code",
   "execution_count": 542,
   "id": "8c933d08-1fe0-4111-9e87-18e874eca491",
   "metadata": {},
   "outputs": [
    {
     "data": {
      "text/html": [
       "<style>#sk-container-id-12 {color: black;background-color: white;}#sk-container-id-12 pre{padding: 0;}#sk-container-id-12 div.sk-toggleable {background-color: white;}#sk-container-id-12 label.sk-toggleable__label {cursor: pointer;display: block;width: 100%;margin-bottom: 0;padding: 0.3em;box-sizing: border-box;text-align: center;}#sk-container-id-12 label.sk-toggleable__label-arrow:before {content: \"▸\";float: left;margin-right: 0.25em;color: #696969;}#sk-container-id-12 label.sk-toggleable__label-arrow:hover:before {color: black;}#sk-container-id-12 div.sk-estimator:hover label.sk-toggleable__label-arrow:before {color: black;}#sk-container-id-12 div.sk-toggleable__content {max-height: 0;max-width: 0;overflow: hidden;text-align: left;background-color: #f0f8ff;}#sk-container-id-12 div.sk-toggleable__content pre {margin: 0.2em;color: black;border-radius: 0.25em;background-color: #f0f8ff;}#sk-container-id-12 input.sk-toggleable__control:checked~div.sk-toggleable__content {max-height: 200px;max-width: 100%;overflow: auto;}#sk-container-id-12 input.sk-toggleable__control:checked~label.sk-toggleable__label-arrow:before {content: \"▾\";}#sk-container-id-12 div.sk-estimator input.sk-toggleable__control:checked~label.sk-toggleable__label {background-color: #d4ebff;}#sk-container-id-12 div.sk-label input.sk-toggleable__control:checked~label.sk-toggleable__label {background-color: #d4ebff;}#sk-container-id-12 input.sk-hidden--visually {border: 0;clip: rect(1px 1px 1px 1px);clip: rect(1px, 1px, 1px, 1px);height: 1px;margin: -1px;overflow: hidden;padding: 0;position: absolute;width: 1px;}#sk-container-id-12 div.sk-estimator {font-family: monospace;background-color: #f0f8ff;border: 1px dotted black;border-radius: 0.25em;box-sizing: border-box;margin-bottom: 0.5em;}#sk-container-id-12 div.sk-estimator:hover {background-color: #d4ebff;}#sk-container-id-12 div.sk-parallel-item::after {content: \"\";width: 100%;border-bottom: 1px solid gray;flex-grow: 1;}#sk-container-id-12 div.sk-label:hover label.sk-toggleable__label {background-color: #d4ebff;}#sk-container-id-12 div.sk-serial::before {content: \"\";position: absolute;border-left: 1px solid gray;box-sizing: border-box;top: 0;bottom: 0;left: 50%;z-index: 0;}#sk-container-id-12 div.sk-serial {display: flex;flex-direction: column;align-items: center;background-color: white;padding-right: 0.2em;padding-left: 0.2em;position: relative;}#sk-container-id-12 div.sk-item {position: relative;z-index: 1;}#sk-container-id-12 div.sk-parallel {display: flex;align-items: stretch;justify-content: center;background-color: white;position: relative;}#sk-container-id-12 div.sk-item::before, #sk-container-id-12 div.sk-parallel-item::before {content: \"\";position: absolute;border-left: 1px solid gray;box-sizing: border-box;top: 0;bottom: 0;left: 50%;z-index: -1;}#sk-container-id-12 div.sk-parallel-item {display: flex;flex-direction: column;z-index: 1;position: relative;background-color: white;}#sk-container-id-12 div.sk-parallel-item:first-child::after {align-self: flex-end;width: 50%;}#sk-container-id-12 div.sk-parallel-item:last-child::after {align-self: flex-start;width: 50%;}#sk-container-id-12 div.sk-parallel-item:only-child::after {width: 0;}#sk-container-id-12 div.sk-dashed-wrapped {border: 1px dashed gray;margin: 0 0.4em 0.5em 0.4em;box-sizing: border-box;padding-bottom: 0.4em;background-color: white;}#sk-container-id-12 div.sk-label label {font-family: monospace;font-weight: bold;display: inline-block;line-height: 1.2em;}#sk-container-id-12 div.sk-label-container {text-align: center;}#sk-container-id-12 div.sk-container {/* jupyter's `normalize.less` sets `[hidden] { display: none; }` but bootstrap.min.css set `[hidden] { display: none !important; }` so we also need the `!important` here to be able to override the default hidden behavior on the sphinx rendered scikit-learn.org. See: https://github.com/scikit-learn/scikit-learn/issues/21755 */display: inline-block !important;position: relative;}#sk-container-id-12 div.sk-text-repr-fallback {display: none;}</style><div id=\"sk-container-id-12\" class=\"sk-top-container\"><div class=\"sk-text-repr-fallback\"><pre>LinearSVC()</pre><b>In a Jupyter environment, please rerun this cell to show the HTML representation or trust the notebook. <br />On GitHub, the HTML representation is unable to render, please try loading this page with nbviewer.org.</b></div><div class=\"sk-container\" hidden><div class=\"sk-item\"><div class=\"sk-estimator sk-toggleable\"><input class=\"sk-toggleable__control sk-hidden--visually\" id=\"sk-estimator-id-12\" type=\"checkbox\" checked><label for=\"sk-estimator-id-12\" class=\"sk-toggleable__label sk-toggleable__label-arrow\">LinearSVC</label><div class=\"sk-toggleable__content\"><pre>LinearSVC()</pre></div></div></div></div></div>"
      ],
      "text/plain": [
       "LinearSVC()"
      ]
     },
     "execution_count": 542,
     "metadata": {},
     "output_type": "execute_result"
    }
   ],
   "source": [
    "SVC_model=LinearSVC()\n",
    "SVC_model.fit(X_train_flat,Y_train)"
   ]
  },
  {
   "cell_type": "code",
   "execution_count": 543,
   "id": "8b9f174c-adbe-4ae9-ac98-6d43ea81aecb",
   "metadata": {},
   "outputs": [
    {
     "data": {
      "text/plain": [
       "0.8214046822742475"
      ]
     },
     "execution_count": 543,
     "metadata": {},
     "output_type": "execute_result"
    }
   ],
   "source": [
    "SVC_model.score(X_test_flat,Y_test)"
   ]
  },
  {
   "cell_type": "code",
   "execution_count": 540,
   "id": "0de4c788-0913-4fd5-9ee5-837811cafdd6",
   "metadata": {},
   "outputs": [
    {
     "data": {
      "text/html": [
       "<style>#sk-container-id-11 {color: black;background-color: white;}#sk-container-id-11 pre{padding: 0;}#sk-container-id-11 div.sk-toggleable {background-color: white;}#sk-container-id-11 label.sk-toggleable__label {cursor: pointer;display: block;width: 100%;margin-bottom: 0;padding: 0.3em;box-sizing: border-box;text-align: center;}#sk-container-id-11 label.sk-toggleable__label-arrow:before {content: \"▸\";float: left;margin-right: 0.25em;color: #696969;}#sk-container-id-11 label.sk-toggleable__label-arrow:hover:before {color: black;}#sk-container-id-11 div.sk-estimator:hover label.sk-toggleable__label-arrow:before {color: black;}#sk-container-id-11 div.sk-toggleable__content {max-height: 0;max-width: 0;overflow: hidden;text-align: left;background-color: #f0f8ff;}#sk-container-id-11 div.sk-toggleable__content pre {margin: 0.2em;color: black;border-radius: 0.25em;background-color: #f0f8ff;}#sk-container-id-11 input.sk-toggleable__control:checked~div.sk-toggleable__content {max-height: 200px;max-width: 100%;overflow: auto;}#sk-container-id-11 input.sk-toggleable__control:checked~label.sk-toggleable__label-arrow:before {content: \"▾\";}#sk-container-id-11 div.sk-estimator input.sk-toggleable__control:checked~label.sk-toggleable__label {background-color: #d4ebff;}#sk-container-id-11 div.sk-label input.sk-toggleable__control:checked~label.sk-toggleable__label {background-color: #d4ebff;}#sk-container-id-11 input.sk-hidden--visually {border: 0;clip: rect(1px 1px 1px 1px);clip: rect(1px, 1px, 1px, 1px);height: 1px;margin: -1px;overflow: hidden;padding: 0;position: absolute;width: 1px;}#sk-container-id-11 div.sk-estimator {font-family: monospace;background-color: #f0f8ff;border: 1px dotted black;border-radius: 0.25em;box-sizing: border-box;margin-bottom: 0.5em;}#sk-container-id-11 div.sk-estimator:hover {background-color: #d4ebff;}#sk-container-id-11 div.sk-parallel-item::after {content: \"\";width: 100%;border-bottom: 1px solid gray;flex-grow: 1;}#sk-container-id-11 div.sk-label:hover label.sk-toggleable__label {background-color: #d4ebff;}#sk-container-id-11 div.sk-serial::before {content: \"\";position: absolute;border-left: 1px solid gray;box-sizing: border-box;top: 0;bottom: 0;left: 50%;z-index: 0;}#sk-container-id-11 div.sk-serial {display: flex;flex-direction: column;align-items: center;background-color: white;padding-right: 0.2em;padding-left: 0.2em;position: relative;}#sk-container-id-11 div.sk-item {position: relative;z-index: 1;}#sk-container-id-11 div.sk-parallel {display: flex;align-items: stretch;justify-content: center;background-color: white;position: relative;}#sk-container-id-11 div.sk-item::before, #sk-container-id-11 div.sk-parallel-item::before {content: \"\";position: absolute;border-left: 1px solid gray;box-sizing: border-box;top: 0;bottom: 0;left: 50%;z-index: -1;}#sk-container-id-11 div.sk-parallel-item {display: flex;flex-direction: column;z-index: 1;position: relative;background-color: white;}#sk-container-id-11 div.sk-parallel-item:first-child::after {align-self: flex-end;width: 50%;}#sk-container-id-11 div.sk-parallel-item:last-child::after {align-self: flex-start;width: 50%;}#sk-container-id-11 div.sk-parallel-item:only-child::after {width: 0;}#sk-container-id-11 div.sk-dashed-wrapped {border: 1px dashed gray;margin: 0 0.4em 0.5em 0.4em;box-sizing: border-box;padding-bottom: 0.4em;background-color: white;}#sk-container-id-11 div.sk-label label {font-family: monospace;font-weight: bold;display: inline-block;line-height: 1.2em;}#sk-container-id-11 div.sk-label-container {text-align: center;}#sk-container-id-11 div.sk-container {/* jupyter's `normalize.less` sets `[hidden] { display: none; }` but bootstrap.min.css set `[hidden] { display: none !important; }` so we also need the `!important` here to be able to override the default hidden behavior on the sphinx rendered scikit-learn.org. See: https://github.com/scikit-learn/scikit-learn/issues/21755 */display: inline-block !important;position: relative;}#sk-container-id-11 div.sk-text-repr-fallback {display: none;}</style><div id=\"sk-container-id-11\" class=\"sk-top-container\"><div class=\"sk-text-repr-fallback\"><pre>RandomForestClassifier(max_depth=20, min_samples_leaf=2)</pre><b>In a Jupyter environment, please rerun this cell to show the HTML representation or trust the notebook. <br />On GitHub, the HTML representation is unable to render, please try loading this page with nbviewer.org.</b></div><div class=\"sk-container\" hidden><div class=\"sk-item\"><div class=\"sk-estimator sk-toggleable\"><input class=\"sk-toggleable__control sk-hidden--visually\" id=\"sk-estimator-id-11\" type=\"checkbox\" checked><label for=\"sk-estimator-id-11\" class=\"sk-toggleable__label sk-toggleable__label-arrow\">RandomForestClassifier</label><div class=\"sk-toggleable__content\"><pre>RandomForestClassifier(max_depth=20, min_samples_leaf=2)</pre></div></div></div></div></div>"
      ],
      "text/plain": [
       "RandomForestClassifier(max_depth=20, min_samples_leaf=2)"
      ]
     },
     "execution_count": 540,
     "metadata": {},
     "output_type": "execute_result"
    }
   ],
   "source": [
    "# creating model \n",
    "Forest_model= RandomForestClassifier(n_estimators=100,\n",
    "                                     max_depth=20,\n",
    "                                     min_samples_leaf=2,\n",
    "                                     min_samples_split=2\n",
    ")\n",
    "Forest_model.fit(X_train_flat,Y_train)"
   ]
  },
  {
   "cell_type": "code",
   "execution_count": 544,
   "id": "82202c05-a367-4612-a582-a62239be00db",
   "metadata": {},
   "outputs": [
    {
     "data": {
      "text/plain": [
       "0.8548494983277592"
      ]
     },
     "execution_count": 544,
     "metadata": {},
     "output_type": "execute_result"
    }
   ],
   "source": [
    "Forest_model.score(X_test_flat,Y_test)"
   ]
  },
  {
   "cell_type": "code",
   "execution_count": 545,
   "id": "87492d63-f031-4ded-82c8-29206bf3ee1c",
   "metadata": {},
   "outputs": [
    {
     "name": "stdout",
     "output_type": "stream",
     "text": [
      "              precision    recall  f1-score   support\n",
      "\n",
      "           0       0.86      0.87      0.86       787\n",
      "           1       0.85      0.84      0.85       708\n",
      "\n",
      "    accuracy                           0.85      1495\n",
      "   macro avg       0.85      0.85      0.85      1495\n",
      "weighted avg       0.85      0.85      0.85      1495\n",
      "\n"
     ]
    }
   ],
   "source": [
    "y_pred=Forest_model.predict(X_test_flat)\n",
    "print(classification_report(Y_test,y_pred))"
   ]
  },
  {
   "cell_type": "code",
   "execution_count": 429,
   "id": "d45dc890-ef51-4306-9bbe-eb64bb16f8ed",
   "metadata": {},
   "outputs": [
    {
     "name": "stdout",
     "output_type": "stream",
     "text": [
      "              precision    recall  f1-score   support\n",
      "\n",
      "           0       0.80      0.96      0.87       787\n",
      "           1       0.94      0.74      0.83       708\n",
      "\n",
      "    accuracy                           0.85      1495\n",
      "   macro avg       0.87      0.85      0.85      1495\n",
      "weighted avg       0.87      0.85      0.85      1495\n",
      "\n"
     ]
    }
   ],
   "source": [
    "y_pred=SVC_model.predict(X_test_flat)\n",
    "print(classification_report(Y_test,y_pred))"
   ]
  },
  {
   "cell_type": "code",
   "execution_count": 548,
   "id": "c3e90e60-8fcc-4d45-8eb2-81db1c83a2eb",
   "metadata": {},
   "outputs": [
    {
     "name": "stdout",
     "output_type": "stream",
     "text": [
      "[0]\n"
     ]
    },
    {
     "data": {
      "text/plain": [
       "array([[0.52783333, 0.47216667]])"
      ]
     },
     "execution_count": 548,
     "metadata": {},
     "output_type": "execute_result"
    }
   ],
   "source": [
    "#pass the text directly\n",
    "test_str = \"i am a good guy i  have been doing 3 years of comp sci, anyone can help with this huge thing pls?\"\n",
    "test_x = prep_and_vec(test_str)\n",
    "\n",
    "# Reshape the input for prediction\n",
    "test_x = test_x.reshape(1, -1)  # If prep_and_vec returns a 1D array, reshape it to 2D for prediction\n",
    "\n",
    "# Make prediction\n",
    "prediction = Forest_model.predict(test_x)\n",
    "probability_scores = Forest_model.predict_proba(test_x)\n",
    "\n",
    "print(prediction)\n",
    "probability_scores"
   ]
  },
  {
   "cell_type": "markdown",
   "id": "5910c2e4-86c4-42ab-9240-9d56dd2add94",
   "metadata": {},
   "source": [
    "### permission -> 1\n",
    "### direct -> 0"
   ]
  },
  {
   "cell_type": "code",
   "execution_count": 365,
   "id": "5bd05e2d-851e-44c4-aa80-b933d099dd19",
   "metadata": {},
   "outputs": [
    {
     "name": "stdout",
     "output_type": "stream",
     "text": [
      "the question:  \n",
      "\n",
      "\n",
      "Hello I'm a new pie on this major, and I'm trying to clean me dataset. I think since it's too big my code gives me an error, can someone please help !!\n",
      "Predicted label: 0\n",
      "Probability scores: [0.56 0.44]\n",
      "Adjusted Predicted Labels: ['DIRECT']\n"
     ]
    }
   ],
   "source": [
    "test_str=\"\"\"\n",
    "\n",
    "\n",
    "Hello I'm a new pie on this major, and I'm trying to clean me dataset. I think since it's too big my code gives me an error, can someone please help !!\"\"\"\n",
    "test_x = prep_and_vec(test_str)\n",
    "#model.predict(test_x)\n",
    "print('the question: ',test_str)\n",
    "test_x = test_x.reshape(1, -1)  # If prep_and_vec returns a 1D array, reshape it to 2D for prediction\n",
    "\n",
    "\n",
    "# Get the probability scores for each class\n",
    "probability_scores = Forest_model.predict_proba(test_x)\n",
    "predicted_labels = Forest_model.predict(test_x)\n",
    "# Display the predicted labels and probability scores\n",
    "for label, prob_scores in zip(predicted_labels, probability_scores):\n",
    "    print(f\"Predicted label: {label}\")\n",
    "    print(f\"Probability scores: {prob_scores}\")\n",
    "\n",
    "\n",
    "threshold = 0.65 #bias or threshold\n",
    "# Adjust probability scores based on the threshold\n",
    "adjusted_scores = [score if label == 1 and score >= threshold else 0.0 for label, score in zip(predicted_labels, probability_scores[:, 1])]\n",
    "# Get the adjusted predicted labels based on adjusted scores\n",
    "adjusted_predicted_labels = ['PERMISSION' if score > 0 else 'DIRECT' for score in adjusted_scores]\n",
    "# Display the adjusted predicted labels\n",
    "print(\"Adjusted Predicted Labels:\", adjusted_predicted_labels)"
   ]
  },
  {
   "cell_type": "code",
   "execution_count": null,
   "id": "0739d8d0-d95b-4c9a-8ebe-e8833684b339",
   "metadata": {},
   "outputs": [],
   "source": []
  },
  {
   "cell_type": "code",
   "execution_count": 323,
   "id": "8688a429-57df-409c-a874-f23de9b7a7ee",
   "metadata": {},
   "outputs": [],
   "source": [
    "model.save(\"scraped_word_embeddings(word2vec_300).model\")"
   ]
  },
  {
   "cell_type": "code",
   "execution_count": 288,
   "id": "4b45eb3f-dc63-4648-a6da-7c09cd294e6d",
   "metadata": {},
   "outputs": [
    {
     "data": {
      "text/plain": [
       "gensim.models.keyedvectors.KeyedVectors"
      ]
     },
     "execution_count": 288,
     "metadata": {},
     "output_type": "execute_result"
    }
   ],
   "source": [
    "type(model.wv)"
   ]
  },
  {
   "cell_type": "code",
   "execution_count": null,
   "id": "600f2c06-45a5-4800-a657-086ba446af4a",
   "metadata": {},
   "outputs": [],
   "source": []
  }
 ],
 "metadata": {
  "kernelspec": {
   "display_name": "Python 3 (ipykernel)",
   "language": "python",
   "name": "python3"
  },
  "language_info": {
   "codemirror_mode": {
    "name": "ipython",
    "version": 3
   },
   "file_extension": ".py",
   "mimetype": "text/x-python",
   "name": "python",
   "nbconvert_exporter": "python",
   "pygments_lexer": "ipython3",
   "version": "3.11.7"
  }
 },
 "nbformat": 4,
 "nbformat_minor": 5
}
