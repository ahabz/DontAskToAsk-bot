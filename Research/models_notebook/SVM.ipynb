{
 "cells": [
  {
   "cell_type": "code",
   "execution_count": 1,
   "id": "b0447664-855f-44b9-a28f-239e77da0481",
   "metadata": {},
   "outputs": [],
   "source": [
    "import pandas as pd\n",
    "import matplotlib.pyplot as plt\n",
    "import numpy as np\n",
    "from sklearn.feature_extraction.text import CountVectorizer\n",
    "from sklearn.feature_extraction.text import TfidfTransformer\n",
    "from sklearn.feature_extraction.text import TfidfVectorizer\n",
    "\n",
    "from sklearn.utils import shuffle\n",
    "from collections import Counter\n"
   ]
  },
  {
   "cell_type": "code",
   "execution_count": 90,
   "id": "a864f805-0c65-4f86-90f2-621ecc71359c",
   "metadata": {},
   "outputs": [],
   "source": [
    "#importing datasets\n",
    "df_Direct=pd.read_csv('../data/processed_data/FinalDirect.csv',index_col=0)\n",
    "df_Permission=pd.read_csv('../data/processed_data/FinalPermission.csv',index_col=0)"
   ]
  },
  {
   "cell_type": "code",
   "execution_count": 91,
   "id": "fa84593d-eef3-47b3-b1ba-2308c5a81838",
   "metadata": {},
   "outputs": [],
   "source": [
    "#importing datasets\n",
    "df_Direct_lemma=pd.read_csv('../data/processed_data/FinalDirect_lemma.csv',index_col=0)\n",
    "df_Permission_lemma=pd.read_csv('../data/processed_data/FinalPermission_lemma.csv',index_col=0)"
   ]
  },
  {
   "cell_type": "code",
   "execution_count": 92,
   "id": "e47b5db9-a1a6-4927-b432-26e640c76192",
   "metadata": {},
   "outputs": [],
   "source": [
    "#combidning both Dataframes\n",
    "Df_Train_lemma=pd.concat([df_Direct_lemma,df_Permission_lemma] ,ignore_index=True)"
   ]
  },
  {
   "cell_type": "code",
   "execution_count": 93,
   "id": "e9923536-e31f-4c37-a3aa-c27d0117b6d0",
   "metadata": {},
   "outputs": [],
   "source": [
    "#combidning both Dataframes\n",
    "Df_Train=pd.concat([df_Direct,df_Permission] ,ignore_index=True)"
   ]
  },
  {
   "cell_type": "code",
   "execution_count": 94,
   "id": "e6cff5bc-421f-4186-af40-a114a4063a91",
   "metadata": {},
   "outputs": [],
   "source": [
    "#shuffling the Dataframe\n",
    "Df_Train_lemma = Df_Train_lemma.sample(frac=1).reset_index(drop=True) #frac is fraction to be returned, 1=all DF"
   ]
  },
  {
   "cell_type": "code",
   "execution_count": 95,
   "id": "bec46d20-4f11-454d-82a8-a12130ddf70f",
   "metadata": {},
   "outputs": [],
   "source": [
    "#shuffling the Dataframe\n",
    "Df_Train = Df_Train.sample(frac=1).reset_index(drop=True) #frac is fraction to be returned, 1=all DF"
   ]
  },
  {
   "cell_type": "code",
   "execution_count": 8,
   "id": "cbca3762-0c56-417d-ad09-d0315a585e1a",
   "metadata": {},
   "outputs": [],
   "source": [
    "Df_Train_lemma.to_csv('Df_Train_lemma.csv')"
   ]
  },
  {
   "cell_type": "code",
   "execution_count": 96,
   "id": "7d1d0797-d4d2-41a6-9079-b9453c415332",
   "metadata": {},
   "outputs": [],
   "source": [
    "Df_Train.to_csv('Df_Train2.csv')"
   ]
  },
  {
   "cell_type": "markdown",
   "id": "728822f1-cac6-41a8-8223-75be7f4ff75f",
   "metadata": {},
   "source": [
    "## Splitting the Features and Labels"
   ]
  },
  {
   "cell_type": "code",
   "execution_count": 97,
   "id": "55bc3d5c-d357-438a-8ed4-b82f15c1ff72",
   "metadata": {},
   "outputs": [],
   "source": [
    "Questions=Df_Train['question']\n",
    "Labels=Df_Train['label']"
   ]
  },
  {
   "cell_type": "markdown",
   "id": "81ab43d2-3bf5-41fc-b398-bddb064c750c",
   "metadata": {},
   "source": [
    "## TF-IDF tokenization of the questions\n"
   ]
  },
  {
   "cell_type": "code",
   "execution_count": 10,
   "id": "95182dc3-fed5-4c4b-977c-3e455b7b3e42",
   "metadata": {},
   "outputs": [
    {
     "data": {
      "text/plain": [
       "18      hy is there anyone who knows deep learning bet...\n",
       "155     for experience replay i have created a memory ...\n",
       "249     hi all i am trying to watch harvard s cs 109a ...\n",
       "487     okay this isn t really followable at all it lo...\n",
       "759     why do we need to mention max length for varch...\n",
       "968     what do they mean by registered registration ?...\n",
       "1088    how much? i mean i would just suggest to work ...\n",
       "1165    i ll describe what i m wanting to achieve and ...\n",
       "1406    does anyone know how i can measure association...\n",
       "1474    im sorry but you have any idea what does 100 c...\n",
       "1560    hello i am looking for a little direction so i...\n",
       "2187    hi guys i have made a neural network and got m...\n",
       "2324    i reverse engineered my schools os platform an...\n",
       "2614    i have a stats question i m calculating the ex...\n",
       "2786    this depends on the bussiness your applying to...\n",
       "3075    i m trying to implement power scheduling on my...\n",
       "3136    it s normal i ve seen a lot of people like tha...\n",
       "3355    hi everyone i have the following project at wo...\n",
       "3356     not everyone has the same number of parents h...\n",
       "3361    when you go for an ab testing there are few pa...\n",
       "3371    hello quick question does somebody have the li...\n",
       "3405    i don t think i can do that rn cause it might ...\n",
       "3421    if i have diferrent financial statements for d...\n",
       "3560     don t forget the cpu cooler didn t see one on...\n",
       "3585    analysis doesn t have a clear cut linear progr...\n",
       "3833    sure sounds good but think maybe my context wa...\n",
       "3870    my pc will be 10 years old in so it is time fo...\n",
       "4098    hi i m learning data structure with pandas num...\n",
       "4141     have any of you guys worked with 4dct data be...\n",
       "Name: question, dtype: object"
      ]
     },
     "execution_count": 10,
     "metadata": {},
     "output_type": "execute_result"
    }
   ],
   "source": [
    "Questions[Questions.str.contains('10')]"
   ]
  },
  {
   "cell_type": "code",
   "execution_count": 98,
   "id": "0c9ccf6e-7ec0-4ab5-9cb6-3e6e1267a5e2",
   "metadata": {},
   "outputs": [
    {
     "data": {
      "text/html": [
       "<div>\n",
       "<style scoped>\n",
       "    .dataframe tbody tr th:only-of-type {\n",
       "        vertical-align: middle;\n",
       "    }\n",
       "\n",
       "    .dataframe tbody tr th {\n",
       "        vertical-align: top;\n",
       "    }\n",
       "\n",
       "    .dataframe thead th {\n",
       "        text-align: right;\n",
       "    }\n",
       "</style>\n",
       "<table border=\"1\" class=\"dataframe\">\n",
       "  <thead>\n",
       "    <tr style=\"text-align: right;\">\n",
       "      <th></th>\n",
       "      <th>-year</th>\n",
       "      <th>-year btech</th>\n",
       "      <th>-year btech student</th>\n",
       "      <th>-year btech student from</th>\n",
       "      <th>abilities</th>\n",
       "      <th>abilities etc</th>\n",
       "      <th>ability</th>\n",
       "      <th>ability compile</th>\n",
       "      <th>ability compile from</th>\n",
       "      <th>ability compile from anywhere</th>\n",
       "      <th>...</th>\n",
       "      <th>zip codes identify potential</th>\n",
       "      <th>zip codes tracking</th>\n",
       "      <th>zip codes tracking numbers</th>\n",
       "      <th>zip from</th>\n",
       "      <th>zip from cran</th>\n",
       "      <th>zones</th>\n",
       "      <th>zones which</th>\n",
       "      <th>zones which facilities</th>\n",
       "      <th>zones which facilities tend</th>\n",
       "      <th>zoo</th>\n",
       "    </tr>\n",
       "  </thead>\n",
       "  <tbody>\n",
       "    <tr>\n",
       "      <th>0</th>\n",
       "      <td>0.0</td>\n",
       "      <td>0.0</td>\n",
       "      <td>0.0</td>\n",
       "      <td>0.0</td>\n",
       "      <td>0.0</td>\n",
       "      <td>0.0</td>\n",
       "      <td>0.0</td>\n",
       "      <td>0.0</td>\n",
       "      <td>0.0</td>\n",
       "      <td>0.0</td>\n",
       "      <td>...</td>\n",
       "      <td>0.0</td>\n",
       "      <td>0.0</td>\n",
       "      <td>0.0</td>\n",
       "      <td>0.0</td>\n",
       "      <td>0.0</td>\n",
       "      <td>0.0</td>\n",
       "      <td>0.0</td>\n",
       "      <td>0.0</td>\n",
       "      <td>0.0</td>\n",
       "      <td>0.0</td>\n",
       "    </tr>\n",
       "    <tr>\n",
       "      <th>1</th>\n",
       "      <td>0.0</td>\n",
       "      <td>0.0</td>\n",
       "      <td>0.0</td>\n",
       "      <td>0.0</td>\n",
       "      <td>0.0</td>\n",
       "      <td>0.0</td>\n",
       "      <td>0.0</td>\n",
       "      <td>0.0</td>\n",
       "      <td>0.0</td>\n",
       "      <td>0.0</td>\n",
       "      <td>...</td>\n",
       "      <td>0.0</td>\n",
       "      <td>0.0</td>\n",
       "      <td>0.0</td>\n",
       "      <td>0.0</td>\n",
       "      <td>0.0</td>\n",
       "      <td>0.0</td>\n",
       "      <td>0.0</td>\n",
       "      <td>0.0</td>\n",
       "      <td>0.0</td>\n",
       "      <td>0.0</td>\n",
       "    </tr>\n",
       "    <tr>\n",
       "      <th>2</th>\n",
       "      <td>0.0</td>\n",
       "      <td>0.0</td>\n",
       "      <td>0.0</td>\n",
       "      <td>0.0</td>\n",
       "      <td>0.0</td>\n",
       "      <td>0.0</td>\n",
       "      <td>0.0</td>\n",
       "      <td>0.0</td>\n",
       "      <td>0.0</td>\n",
       "      <td>0.0</td>\n",
       "      <td>...</td>\n",
       "      <td>0.0</td>\n",
       "      <td>0.0</td>\n",
       "      <td>0.0</td>\n",
       "      <td>0.0</td>\n",
       "      <td>0.0</td>\n",
       "      <td>0.0</td>\n",
       "      <td>0.0</td>\n",
       "      <td>0.0</td>\n",
       "      <td>0.0</td>\n",
       "      <td>0.0</td>\n",
       "    </tr>\n",
       "    <tr>\n",
       "      <th>3</th>\n",
       "      <td>0.0</td>\n",
       "      <td>0.0</td>\n",
       "      <td>0.0</td>\n",
       "      <td>0.0</td>\n",
       "      <td>0.0</td>\n",
       "      <td>0.0</td>\n",
       "      <td>0.0</td>\n",
       "      <td>0.0</td>\n",
       "      <td>0.0</td>\n",
       "      <td>0.0</td>\n",
       "      <td>...</td>\n",
       "      <td>0.0</td>\n",
       "      <td>0.0</td>\n",
       "      <td>0.0</td>\n",
       "      <td>0.0</td>\n",
       "      <td>0.0</td>\n",
       "      <td>0.0</td>\n",
       "      <td>0.0</td>\n",
       "      <td>0.0</td>\n",
       "      <td>0.0</td>\n",
       "      <td>0.0</td>\n",
       "    </tr>\n",
       "    <tr>\n",
       "      <th>4</th>\n",
       "      <td>0.0</td>\n",
       "      <td>0.0</td>\n",
       "      <td>0.0</td>\n",
       "      <td>0.0</td>\n",
       "      <td>0.0</td>\n",
       "      <td>0.0</td>\n",
       "      <td>0.0</td>\n",
       "      <td>0.0</td>\n",
       "      <td>0.0</td>\n",
       "      <td>0.0</td>\n",
       "      <td>...</td>\n",
       "      <td>0.0</td>\n",
       "      <td>0.0</td>\n",
       "      <td>0.0</td>\n",
       "      <td>0.0</td>\n",
       "      <td>0.0</td>\n",
       "      <td>0.0</td>\n",
       "      <td>0.0</td>\n",
       "      <td>0.0</td>\n",
       "      <td>0.0</td>\n",
       "      <td>0.0</td>\n",
       "    </tr>\n",
       "    <tr>\n",
       "      <th>...</th>\n",
       "      <td>...</td>\n",
       "      <td>...</td>\n",
       "      <td>...</td>\n",
       "      <td>...</td>\n",
       "      <td>...</td>\n",
       "      <td>...</td>\n",
       "      <td>...</td>\n",
       "      <td>...</td>\n",
       "      <td>...</td>\n",
       "      <td>...</td>\n",
       "      <td>...</td>\n",
       "      <td>...</td>\n",
       "      <td>...</td>\n",
       "      <td>...</td>\n",
       "      <td>...</td>\n",
       "      <td>...</td>\n",
       "      <td>...</td>\n",
       "      <td>...</td>\n",
       "      <td>...</td>\n",
       "      <td>...</td>\n",
       "      <td>...</td>\n",
       "    </tr>\n",
       "    <tr>\n",
       "      <th>4685</th>\n",
       "      <td>0.0</td>\n",
       "      <td>0.0</td>\n",
       "      <td>0.0</td>\n",
       "      <td>0.0</td>\n",
       "      <td>0.0</td>\n",
       "      <td>0.0</td>\n",
       "      <td>0.0</td>\n",
       "      <td>0.0</td>\n",
       "      <td>0.0</td>\n",
       "      <td>0.0</td>\n",
       "      <td>...</td>\n",
       "      <td>0.0</td>\n",
       "      <td>0.0</td>\n",
       "      <td>0.0</td>\n",
       "      <td>0.0</td>\n",
       "      <td>0.0</td>\n",
       "      <td>0.0</td>\n",
       "      <td>0.0</td>\n",
       "      <td>0.0</td>\n",
       "      <td>0.0</td>\n",
       "      <td>0.0</td>\n",
       "    </tr>\n",
       "    <tr>\n",
       "      <th>4686</th>\n",
       "      <td>0.0</td>\n",
       "      <td>0.0</td>\n",
       "      <td>0.0</td>\n",
       "      <td>0.0</td>\n",
       "      <td>0.0</td>\n",
       "      <td>0.0</td>\n",
       "      <td>0.0</td>\n",
       "      <td>0.0</td>\n",
       "      <td>0.0</td>\n",
       "      <td>0.0</td>\n",
       "      <td>...</td>\n",
       "      <td>0.0</td>\n",
       "      <td>0.0</td>\n",
       "      <td>0.0</td>\n",
       "      <td>0.0</td>\n",
       "      <td>0.0</td>\n",
       "      <td>0.0</td>\n",
       "      <td>0.0</td>\n",
       "      <td>0.0</td>\n",
       "      <td>0.0</td>\n",
       "      <td>0.0</td>\n",
       "    </tr>\n",
       "    <tr>\n",
       "      <th>4687</th>\n",
       "      <td>0.0</td>\n",
       "      <td>0.0</td>\n",
       "      <td>0.0</td>\n",
       "      <td>0.0</td>\n",
       "      <td>0.0</td>\n",
       "      <td>0.0</td>\n",
       "      <td>0.0</td>\n",
       "      <td>0.0</td>\n",
       "      <td>0.0</td>\n",
       "      <td>0.0</td>\n",
       "      <td>...</td>\n",
       "      <td>0.0</td>\n",
       "      <td>0.0</td>\n",
       "      <td>0.0</td>\n",
       "      <td>0.0</td>\n",
       "      <td>0.0</td>\n",
       "      <td>0.0</td>\n",
       "      <td>0.0</td>\n",
       "      <td>0.0</td>\n",
       "      <td>0.0</td>\n",
       "      <td>0.0</td>\n",
       "    </tr>\n",
       "    <tr>\n",
       "      <th>4688</th>\n",
       "      <td>0.0</td>\n",
       "      <td>0.0</td>\n",
       "      <td>0.0</td>\n",
       "      <td>0.0</td>\n",
       "      <td>0.0</td>\n",
       "      <td>0.0</td>\n",
       "      <td>0.0</td>\n",
       "      <td>0.0</td>\n",
       "      <td>0.0</td>\n",
       "      <td>0.0</td>\n",
       "      <td>...</td>\n",
       "      <td>0.0</td>\n",
       "      <td>0.0</td>\n",
       "      <td>0.0</td>\n",
       "      <td>0.0</td>\n",
       "      <td>0.0</td>\n",
       "      <td>0.0</td>\n",
       "      <td>0.0</td>\n",
       "      <td>0.0</td>\n",
       "      <td>0.0</td>\n",
       "      <td>0.0</td>\n",
       "    </tr>\n",
       "    <tr>\n",
       "      <th>4689</th>\n",
       "      <td>0.0</td>\n",
       "      <td>0.0</td>\n",
       "      <td>0.0</td>\n",
       "      <td>0.0</td>\n",
       "      <td>0.0</td>\n",
       "      <td>0.0</td>\n",
       "      <td>0.0</td>\n",
       "      <td>0.0</td>\n",
       "      <td>0.0</td>\n",
       "      <td>0.0</td>\n",
       "      <td>...</td>\n",
       "      <td>0.0</td>\n",
       "      <td>0.0</td>\n",
       "      <td>0.0</td>\n",
       "      <td>0.0</td>\n",
       "      <td>0.0</td>\n",
       "      <td>0.0</td>\n",
       "      <td>0.0</td>\n",
       "      <td>0.0</td>\n",
       "      <td>0.0</td>\n",
       "      <td>0.0</td>\n",
       "    </tr>\n",
       "  </tbody>\n",
       "</table>\n",
       "<p>4690 rows × 145043 columns</p>\n",
       "</div>"
      ],
      "text/plain": [
       "      -year  -year btech  -year btech student  -year btech student from  \\\n",
       "0       0.0          0.0                  0.0                       0.0   \n",
       "1       0.0          0.0                  0.0                       0.0   \n",
       "2       0.0          0.0                  0.0                       0.0   \n",
       "3       0.0          0.0                  0.0                       0.0   \n",
       "4       0.0          0.0                  0.0                       0.0   \n",
       "...     ...          ...                  ...                       ...   \n",
       "4685    0.0          0.0                  0.0                       0.0   \n",
       "4686    0.0          0.0                  0.0                       0.0   \n",
       "4687    0.0          0.0                  0.0                       0.0   \n",
       "4688    0.0          0.0                  0.0                       0.0   \n",
       "4689    0.0          0.0                  0.0                       0.0   \n",
       "\n",
       "      abilities  abilities etc  ability  ability compile  \\\n",
       "0           0.0            0.0      0.0              0.0   \n",
       "1           0.0            0.0      0.0              0.0   \n",
       "2           0.0            0.0      0.0              0.0   \n",
       "3           0.0            0.0      0.0              0.0   \n",
       "4           0.0            0.0      0.0              0.0   \n",
       "...         ...            ...      ...              ...   \n",
       "4685        0.0            0.0      0.0              0.0   \n",
       "4686        0.0            0.0      0.0              0.0   \n",
       "4687        0.0            0.0      0.0              0.0   \n",
       "4688        0.0            0.0      0.0              0.0   \n",
       "4689        0.0            0.0      0.0              0.0   \n",
       "\n",
       "      ability compile from  ability compile from anywhere  ...  \\\n",
       "0                      0.0                            0.0  ...   \n",
       "1                      0.0                            0.0  ...   \n",
       "2                      0.0                            0.0  ...   \n",
       "3                      0.0                            0.0  ...   \n",
       "4                      0.0                            0.0  ...   \n",
       "...                    ...                            ...  ...   \n",
       "4685                   0.0                            0.0  ...   \n",
       "4686                   0.0                            0.0  ...   \n",
       "4687                   0.0                            0.0  ...   \n",
       "4688                   0.0                            0.0  ...   \n",
       "4689                   0.0                            0.0  ...   \n",
       "\n",
       "      zip codes identify potential  zip codes tracking  \\\n",
       "0                              0.0                 0.0   \n",
       "1                              0.0                 0.0   \n",
       "2                              0.0                 0.0   \n",
       "3                              0.0                 0.0   \n",
       "4                              0.0                 0.0   \n",
       "...                            ...                 ...   \n",
       "4685                           0.0                 0.0   \n",
       "4686                           0.0                 0.0   \n",
       "4687                           0.0                 0.0   \n",
       "4688                           0.0                 0.0   \n",
       "4689                           0.0                 0.0   \n",
       "\n",
       "      zip codes tracking numbers  zip from  zip from cran  zones  zones which  \\\n",
       "0                            0.0       0.0            0.0    0.0          0.0   \n",
       "1                            0.0       0.0            0.0    0.0          0.0   \n",
       "2                            0.0       0.0            0.0    0.0          0.0   \n",
       "3                            0.0       0.0            0.0    0.0          0.0   \n",
       "4                            0.0       0.0            0.0    0.0          0.0   \n",
       "...                          ...       ...            ...    ...          ...   \n",
       "4685                         0.0       0.0            0.0    0.0          0.0   \n",
       "4686                         0.0       0.0            0.0    0.0          0.0   \n",
       "4687                         0.0       0.0            0.0    0.0          0.0   \n",
       "4688                         0.0       0.0            0.0    0.0          0.0   \n",
       "4689                         0.0       0.0            0.0    0.0          0.0   \n",
       "\n",
       "      zones which facilities  zones which facilities tend  zoo  \n",
       "0                        0.0                          0.0  0.0  \n",
       "1                        0.0                          0.0  0.0  \n",
       "2                        0.0                          0.0  0.0  \n",
       "3                        0.0                          0.0  0.0  \n",
       "4                        0.0                          0.0  0.0  \n",
       "...                      ...                          ...  ...  \n",
       "4685                     0.0                          0.0  0.0  \n",
       "4686                     0.0                          0.0  0.0  \n",
       "4687                     0.0                          0.0  0.0  \n",
       "4688                     0.0                          0.0  0.0  \n",
       "4689                     0.0                          0.0  0.0  \n",
       "\n",
       "[4690 rows x 145043 columns]"
      ]
     },
     "execution_count": 98,
     "metadata": {},
     "output_type": "execute_result"
    }
   ],
   "source": [
    "#Initialize the TF-IDF vectorizer\n",
    "tfidf_vectorizer = TfidfVectorizer(ngram_range=(1,4),\n",
    "                                #min_df=5,\n",
    "                                #max_df=0.2,\n",
    "                                token_pattern=r\"\\b[^0-9\\s]{3,}\\b\"\n",
    "                                #sublinear_tf=True\n",
    ") #ngram considered\n",
    "\n",
    "#Fit and transform the corpus to generate the TF-IDF matrix\n",
    "tfidf_matrix = tfidf_vectorizer.fit_transform(Questions)\n",
    "\n",
    "# Step 3: Convert the TF-IDF matrix to a DataFrame for better visualization\n",
    "df_tfidf = pd.DataFrame(tfidf_matrix.toarray(), columns=tfidf_vectorizer.get_feature_names_out())\n",
    "\n",
    "df_tfidf"
   ]
  },
  {
   "cell_type": "code",
   "execution_count": 190,
   "id": "7f53c862-da29-4752-bdba-93f2eb76221c",
   "metadata": {},
   "outputs": [
    {
     "data": {
      "text/plain": [
       "['tfidfvectorizer.pkl']"
      ]
     },
     "execution_count": 190,
     "metadata": {},
     "output_type": "execute_result"
    }
   ],
   "source": [
    "joblib.dump(tfidf_vectorizer, 'tfidfvectorizer.pkl')\n"
   ]
  },
  {
   "cell_type": "code",
   "execution_count": null,
   "id": "2596f984-dd29-41af-95a2-78881dca0d9d",
   "metadata": {},
   "outputs": [],
   "source": [
    "#checking the tfidf values\n",
    "ngram='any one here'\n",
    "print('num of rows: ',len(df_tfidf[df_tfidf[ngram]!=0][ngram].sort_values(ascending=True)))\n",
    "df_tfidf[df_tfidf[ngram]!=0][ngram].sort_values(ascending=True)"
   ]
  },
  {
   "cell_type": "code",
   "execution_count": 54,
   "id": "f5e74591-70ca-4156-9f39-bdf2dbe4190c",
   "metadata": {},
   "outputs": [
    {
     "data": {
      "text/plain": [
       "'not sure if this is the right channel for it but has anyone here that works as a ds mle had to be on call for their production models? if so how are you finding it how did you find it?'"
      ]
     },
     "execution_count": 54,
     "metadata": {},
     "output_type": "execute_result"
    }
   ],
   "source": [
    "Questions.iloc[4070]"
   ]
  },
  {
   "cell_type": "markdown",
   "id": "c429aa86-47e3-48cc-a40b-b5ce300c9104",
   "metadata": {},
   "source": [
    "## Train / Test Split"
   ]
  },
  {
   "cell_type": "code",
   "execution_count": 35,
   "id": "179b416a-8664-4aa4-b37e-481fac64fa40",
   "metadata": {},
   "outputs": [],
   "source": [
    "from sklearn.model_selection import train_test_split\n",
    "from sklearn.metrics import classification_report\n",
    "\n",
    "from sklearn.ensemble import RandomForestClassifier\n",
    "from sklearn.utils import shuffle"
   ]
  },
  {
   "cell_type": "code",
   "execution_count": 99,
   "id": "fb993cd5-f6f8-4520-aa2f-11621eb4cf50",
   "metadata": {},
   "outputs": [],
   "source": [
    "# feature/response splits\n",
    "X_train, X_test, Y_train, Y_test = train_test_split(df_tfidf, Labels, test_size=0.2, random_state=42)\n"
   ]
  },
  {
   "cell_type": "code",
   "execution_count": 100,
   "id": "e5ba7c83-95c7-4672-b6a4-9bcdaabc74c3",
   "metadata": {},
   "outputs": [
    {
     "data": {
      "text/html": [
       "<style>#sk-container-id-6 {color: black;background-color: white;}#sk-container-id-6 pre{padding: 0;}#sk-container-id-6 div.sk-toggleable {background-color: white;}#sk-container-id-6 label.sk-toggleable__label {cursor: pointer;display: block;width: 100%;margin-bottom: 0;padding: 0.3em;box-sizing: border-box;text-align: center;}#sk-container-id-6 label.sk-toggleable__label-arrow:before {content: \"▸\";float: left;margin-right: 0.25em;color: #696969;}#sk-container-id-6 label.sk-toggleable__label-arrow:hover:before {color: black;}#sk-container-id-6 div.sk-estimator:hover label.sk-toggleable__label-arrow:before {color: black;}#sk-container-id-6 div.sk-toggleable__content {max-height: 0;max-width: 0;overflow: hidden;text-align: left;background-color: #f0f8ff;}#sk-container-id-6 div.sk-toggleable__content pre {margin: 0.2em;color: black;border-radius: 0.25em;background-color: #f0f8ff;}#sk-container-id-6 input.sk-toggleable__control:checked~div.sk-toggleable__content {max-height: 200px;max-width: 100%;overflow: auto;}#sk-container-id-6 input.sk-toggleable__control:checked~label.sk-toggleable__label-arrow:before {content: \"▾\";}#sk-container-id-6 div.sk-estimator input.sk-toggleable__control:checked~label.sk-toggleable__label {background-color: #d4ebff;}#sk-container-id-6 div.sk-label input.sk-toggleable__control:checked~label.sk-toggleable__label {background-color: #d4ebff;}#sk-container-id-6 input.sk-hidden--visually {border: 0;clip: rect(1px 1px 1px 1px);clip: rect(1px, 1px, 1px, 1px);height: 1px;margin: -1px;overflow: hidden;padding: 0;position: absolute;width: 1px;}#sk-container-id-6 div.sk-estimator {font-family: monospace;background-color: #f0f8ff;border: 1px dotted black;border-radius: 0.25em;box-sizing: border-box;margin-bottom: 0.5em;}#sk-container-id-6 div.sk-estimator:hover {background-color: #d4ebff;}#sk-container-id-6 div.sk-parallel-item::after {content: \"\";width: 100%;border-bottom: 1px solid gray;flex-grow: 1;}#sk-container-id-6 div.sk-label:hover label.sk-toggleable__label {background-color: #d4ebff;}#sk-container-id-6 div.sk-serial::before {content: \"\";position: absolute;border-left: 1px solid gray;box-sizing: border-box;top: 0;bottom: 0;left: 50%;z-index: 0;}#sk-container-id-6 div.sk-serial {display: flex;flex-direction: column;align-items: center;background-color: white;padding-right: 0.2em;padding-left: 0.2em;position: relative;}#sk-container-id-6 div.sk-item {position: relative;z-index: 1;}#sk-container-id-6 div.sk-parallel {display: flex;align-items: stretch;justify-content: center;background-color: white;position: relative;}#sk-container-id-6 div.sk-item::before, #sk-container-id-6 div.sk-parallel-item::before {content: \"\";position: absolute;border-left: 1px solid gray;box-sizing: border-box;top: 0;bottom: 0;left: 50%;z-index: -1;}#sk-container-id-6 div.sk-parallel-item {display: flex;flex-direction: column;z-index: 1;position: relative;background-color: white;}#sk-container-id-6 div.sk-parallel-item:first-child::after {align-self: flex-end;width: 50%;}#sk-container-id-6 div.sk-parallel-item:last-child::after {align-self: flex-start;width: 50%;}#sk-container-id-6 div.sk-parallel-item:only-child::after {width: 0;}#sk-container-id-6 div.sk-dashed-wrapped {border: 1px dashed gray;margin: 0 0.4em 0.5em 0.4em;box-sizing: border-box;padding-bottom: 0.4em;background-color: white;}#sk-container-id-6 div.sk-label label {font-family: monospace;font-weight: bold;display: inline-block;line-height: 1.2em;}#sk-container-id-6 div.sk-label-container {text-align: center;}#sk-container-id-6 div.sk-container {/* jupyter's `normalize.less` sets `[hidden] { display: none; }` but bootstrap.min.css set `[hidden] { display: none !important; }` so we also need the `!important` here to be able to override the default hidden behavior on the sphinx rendered scikit-learn.org. See: https://github.com/scikit-learn/scikit-learn/issues/21755 */display: inline-block !important;position: relative;}#sk-container-id-6 div.sk-text-repr-fallback {display: none;}</style><div id=\"sk-container-id-6\" class=\"sk-top-container\"><div class=\"sk-text-repr-fallback\"><pre>RandomForestClassifier()</pre><b>In a Jupyter environment, please rerun this cell to show the HTML representation or trust the notebook. <br />On GitHub, the HTML representation is unable to render, please try loading this page with nbviewer.org.</b></div><div class=\"sk-container\" hidden><div class=\"sk-item\"><div class=\"sk-estimator sk-toggleable\"><input class=\"sk-toggleable__control sk-hidden--visually\" id=\"sk-estimator-id-6\" type=\"checkbox\" checked><label for=\"sk-estimator-id-6\" class=\"sk-toggleable__label sk-toggleable__label-arrow\">RandomForestClassifier</label><div class=\"sk-toggleable__content\"><pre>RandomForestClassifier()</pre></div></div></div></div></div>"
      ],
      "text/plain": [
       "RandomForestClassifier()"
      ]
     },
     "execution_count": 100,
     "metadata": {},
     "output_type": "execute_result"
    }
   ],
   "source": [
    "# creating model \n",
    "model= RandomForestClassifier()\n",
    "model.fit(X_train,Y_train)"
   ]
  },
  {
   "cell_type": "code",
   "execution_count": 101,
   "id": "8410ad9d-8a2c-4143-9822-b07e14d5cb6b",
   "metadata": {},
   "outputs": [
    {
     "name": "stdout",
     "output_type": "stream",
     "text": [
      "0.920042643923241\n",
      "              precision    recall  f1-score   support\n",
      "\n",
      "      DIRECT       0.86      0.97      0.91       413\n",
      "  PERMISSION       0.97      0.88      0.92       525\n",
      "\n",
      "    accuracy                           0.92       938\n",
      "   macro avg       0.92      0.93      0.92       938\n",
      "weighted avg       0.93      0.92      0.92       938\n",
      "\n"
     ]
    }
   ],
   "source": [
    "print(model.score(X_test,Y_test))\n",
    "y_pred=model.predict(X_test)\n",
    "print(classification_report(Y_test,y_pred))"
   ]
  },
  {
   "cell_type": "code",
   "execution_count": 112,
   "id": "4f9a1b7b-5687-460c-bb58-cfde4f18abb4",
   "metadata": {},
   "outputs": [],
   "source": [
    "#SVM\n",
    "import sklearn\n",
    "from sklearn.svm import LinearSVC\n",
    "import spacy\n",
    "from sklearn.model_selection import GridSearchCV\n",
    "from sklearn.model_selection import cross_val_score, KFold\n",
    "from sklearn.linear_model import LogisticRegression\n",
    "from sklearn.ensemble import RandomForestClassifier\n",
    "from sklearn.neighbors import KNeighborsClassifier\n",
    "from sklearn.tree import DecisionTreeClassifier\n",
    "from sklearn.naive_bayes import GaussianNB\n",
    "nlp=spacy.load('en_core_web_sm')"
   ]
  },
  {
   "cell_type": "code",
   "execution_count": 104,
   "id": "f4342613-e36f-4743-82a0-a17ec1175de2",
   "metadata": {},
   "outputs": [
    {
     "name": "stdout",
     "output_type": "stream",
     "text": [
      "CPU times: user 9.1 s, sys: 4.26 s, total: 13.4 s\n",
      "Wall time: 19.6 s\n"
     ]
    },
    {
     "data": {
      "text/html": [
       "<style>#sk-container-id-7 {color: black;background-color: white;}#sk-container-id-7 pre{padding: 0;}#sk-container-id-7 div.sk-toggleable {background-color: white;}#sk-container-id-7 label.sk-toggleable__label {cursor: pointer;display: block;width: 100%;margin-bottom: 0;padding: 0.3em;box-sizing: border-box;text-align: center;}#sk-container-id-7 label.sk-toggleable__label-arrow:before {content: \"▸\";float: left;margin-right: 0.25em;color: #696969;}#sk-container-id-7 label.sk-toggleable__label-arrow:hover:before {color: black;}#sk-container-id-7 div.sk-estimator:hover label.sk-toggleable__label-arrow:before {color: black;}#sk-container-id-7 div.sk-toggleable__content {max-height: 0;max-width: 0;overflow: hidden;text-align: left;background-color: #f0f8ff;}#sk-container-id-7 div.sk-toggleable__content pre {margin: 0.2em;color: black;border-radius: 0.25em;background-color: #f0f8ff;}#sk-container-id-7 input.sk-toggleable__control:checked~div.sk-toggleable__content {max-height: 200px;max-width: 100%;overflow: auto;}#sk-container-id-7 input.sk-toggleable__control:checked~label.sk-toggleable__label-arrow:before {content: \"▾\";}#sk-container-id-7 div.sk-estimator input.sk-toggleable__control:checked~label.sk-toggleable__label {background-color: #d4ebff;}#sk-container-id-7 div.sk-label input.sk-toggleable__control:checked~label.sk-toggleable__label {background-color: #d4ebff;}#sk-container-id-7 input.sk-hidden--visually {border: 0;clip: rect(1px 1px 1px 1px);clip: rect(1px, 1px, 1px, 1px);height: 1px;margin: -1px;overflow: hidden;padding: 0;position: absolute;width: 1px;}#sk-container-id-7 div.sk-estimator {font-family: monospace;background-color: #f0f8ff;border: 1px dotted black;border-radius: 0.25em;box-sizing: border-box;margin-bottom: 0.5em;}#sk-container-id-7 div.sk-estimator:hover {background-color: #d4ebff;}#sk-container-id-7 div.sk-parallel-item::after {content: \"\";width: 100%;border-bottom: 1px solid gray;flex-grow: 1;}#sk-container-id-7 div.sk-label:hover label.sk-toggleable__label {background-color: #d4ebff;}#sk-container-id-7 div.sk-serial::before {content: \"\";position: absolute;border-left: 1px solid gray;box-sizing: border-box;top: 0;bottom: 0;left: 50%;z-index: 0;}#sk-container-id-7 div.sk-serial {display: flex;flex-direction: column;align-items: center;background-color: white;padding-right: 0.2em;padding-left: 0.2em;position: relative;}#sk-container-id-7 div.sk-item {position: relative;z-index: 1;}#sk-container-id-7 div.sk-parallel {display: flex;align-items: stretch;justify-content: center;background-color: white;position: relative;}#sk-container-id-7 div.sk-item::before, #sk-container-id-7 div.sk-parallel-item::before {content: \"\";position: absolute;border-left: 1px solid gray;box-sizing: border-box;top: 0;bottom: 0;left: 50%;z-index: -1;}#sk-container-id-7 div.sk-parallel-item {display: flex;flex-direction: column;z-index: 1;position: relative;background-color: white;}#sk-container-id-7 div.sk-parallel-item:first-child::after {align-self: flex-end;width: 50%;}#sk-container-id-7 div.sk-parallel-item:last-child::after {align-self: flex-start;width: 50%;}#sk-container-id-7 div.sk-parallel-item:only-child::after {width: 0;}#sk-container-id-7 div.sk-dashed-wrapped {border: 1px dashed gray;margin: 0 0.4em 0.5em 0.4em;box-sizing: border-box;padding-bottom: 0.4em;background-color: white;}#sk-container-id-7 div.sk-label label {font-family: monospace;font-weight: bold;display: inline-block;line-height: 1.2em;}#sk-container-id-7 div.sk-label-container {text-align: center;}#sk-container-id-7 div.sk-container {/* jupyter's `normalize.less` sets `[hidden] { display: none; }` but bootstrap.min.css set `[hidden] { display: none !important; }` so we also need the `!important` here to be able to override the default hidden behavior on the sphinx rendered scikit-learn.org. See: https://github.com/scikit-learn/scikit-learn/issues/21755 */display: inline-block !important;position: relative;}#sk-container-id-7 div.sk-text-repr-fallback {display: none;}</style><div id=\"sk-container-id-7\" class=\"sk-top-container\"><div class=\"sk-text-repr-fallback\"><pre>LinearSVC()</pre><b>In a Jupyter environment, please rerun this cell to show the HTML representation or trust the notebook. <br />On GitHub, the HTML representation is unable to render, please try loading this page with nbviewer.org.</b></div><div class=\"sk-container\" hidden><div class=\"sk-item\"><div class=\"sk-estimator sk-toggleable\"><input class=\"sk-toggleable__control sk-hidden--visually\" id=\"sk-estimator-id-7\" type=\"checkbox\" checked><label for=\"sk-estimator-id-7\" class=\"sk-toggleable__label sk-toggleable__label-arrow\">LinearSVC</label><div class=\"sk-toggleable__content\"><pre>LinearSVC()</pre></div></div></div></div></div>"
      ],
      "text/plain": [
       "LinearSVC()"
      ]
     },
     "execution_count": 104,
     "metadata": {},
     "output_type": "execute_result"
    }
   ],
   "source": [
    "%%time\n",
    "model_Svm=LinearSVC()\n",
    "model_Svm.fit(X_train,Y_train)"
   ]
  },
  {
   "cell_type": "code",
   "execution_count": 106,
   "id": "bb76c7ea-af91-4ee7-a42c-7bc325ea3675",
   "metadata": {},
   "outputs": [],
   "source": [
    "from sklearn.model_selection import KFold, cross_val_score"
   ]
  },
  {
   "cell_type": "code",
   "execution_count": 110,
   "id": "09cfbc1d-6e61-440b-a95a-883960169c73",
   "metadata": {},
   "outputs": [
    {
     "name": "stdout",
     "output_type": "stream",
     "text": [
      "Logistic Regression: Mean Accuracy = 0.9248, Std Dev = 0.0106\n",
      "Linear SVM: Mean Accuracy = 0.9334, Std Dev = 0.0096\n",
      "Random Forest: Mean Accuracy = 0.9291, Std Dev = 0.0088\n",
      "K-Nearest Neighbors: Mean Accuracy = 0.8673, Std Dev = 0.0115\n",
      "Decision Tree: Mean Accuracy = 0.9009, Std Dev = 0.0092\n",
      "Naive Bayes: Mean Accuracy = 0.8862, Std Dev = 0.0076\n",
      "CPU times: user 42min 46s, sys: 7min 11s, total: 49min 58s\n",
      "Wall time: 1h 17s\n"
     ]
    }
   ],
   "source": [
    "%%time\n",
    "models = [\n",
    "    ('Logistic Regression', LogisticRegression()),\n",
    "    ('Linear SVM', LinearSVC()),\n",
    "    ('Random Forest', RandomForestClassifier()),\n",
    "    ('K-Nearest Neighbors', KNeighborsClassifier()),\n",
    "    ('Decision Tree', DecisionTreeClassifier()),\n",
    "    ('Naive Bayes', GaussianNB())\n",
    "]\n",
    "cv = KFold(n_splits=5, shuffle=True, random_state=42)\n",
    "\n",
    "\n",
    "\n",
    "# Evaluate each model using cross-validation\n",
    "for name, model in models:\n",
    "    # Perform cross-validation and compute accuracy scores\n",
    "    scores = cross_val_score(model, X_train,Y_train, cv=cv, scoring='accuracy')\n",
    "    \n",
    "    # Print the average accuracy score and standard deviation\n",
    "    print(f'{name}: Mean Accuracy = {scores.mean():.4f}, Std Dev = {scores.std():.4f}')"
   ]
  },
  {
   "cell_type": "markdown",
   "id": "25caa2ea-b96a-461e-9ed0-a53294308414",
   "metadata": {},
   "source": [
    "#### Going with linear SVM : GridsearchCV"
   ]
  },
  {
   "cell_type": "code",
   "execution_count": 114,
   "id": "d33b34d8-8502-4629-b0b5-e294d8641b37",
   "metadata": {},
   "outputs": [
    {
     "name": "stderr",
     "output_type": "stream",
     "text": [
      "/Users/user1/anaconda3/lib/python3.11/site-packages/sklearn/svm/_base.py:1244: ConvergenceWarning: Liblinear failed to converge, increase the number of iterations.\n",
      "  warnings.warn(\n",
      "/Users/user1/anaconda3/lib/python3.11/site-packages/sklearn/svm/_base.py:1244: ConvergenceWarning: Liblinear failed to converge, increase the number of iterations.\n",
      "  warnings.warn(\n",
      "/Users/user1/anaconda3/lib/python3.11/site-packages/sklearn/svm/_base.py:1244: ConvergenceWarning: Liblinear failed to converge, increase the number of iterations.\n",
      "  warnings.warn(\n",
      "/Users/user1/anaconda3/lib/python3.11/site-packages/sklearn/svm/_base.py:1244: ConvergenceWarning: Liblinear failed to converge, increase the number of iterations.\n",
      "  warnings.warn(\n",
      "/Users/user1/anaconda3/lib/python3.11/site-packages/sklearn/svm/_base.py:1244: ConvergenceWarning: Liblinear failed to converge, increase the number of iterations.\n",
      "  warnings.warn(\n",
      "/Users/user1/anaconda3/lib/python3.11/site-packages/sklearn/svm/_base.py:1244: ConvergenceWarning: Liblinear failed to converge, increase the number of iterations.\n",
      "  warnings.warn(\n",
      "/Users/user1/anaconda3/lib/python3.11/site-packages/sklearn/svm/_base.py:1244: ConvergenceWarning: Liblinear failed to converge, increase the number of iterations.\n",
      "  warnings.warn(\n",
      "/Users/user1/anaconda3/lib/python3.11/site-packages/sklearn/svm/_base.py:1244: ConvergenceWarning: Liblinear failed to converge, increase the number of iterations.\n",
      "  warnings.warn(\n",
      "/Users/user1/anaconda3/lib/python3.11/site-packages/sklearn/svm/_base.py:1244: ConvergenceWarning: Liblinear failed to converge, increase the number of iterations.\n",
      "  warnings.warn(\n"
     ]
    },
    {
     "name": "stdout",
     "output_type": "stream",
     "text": [
      "CPU times: user 10min 45s, sys: 5min 49s, total: 16min 35s\n",
      "Wall time: 22min 38s\n"
     ]
    },
    {
     "data": {
      "text/plain": [
       "{'mean_fit_time': array([25.77805538, 28.50007071, 24.69411035, 20.65802298, 24.40774064,\n",
       "        22.19233599, 20.74388247, 20.43122425, 24.42318583]),\n",
       " 'std_fit_time': array([ 8.85472915, 13.30965931,  4.50967025,  1.30668674,  4.88498211,\n",
       "         2.34522856,  1.20746678,  1.04023623,  5.38066263]),\n",
       " 'mean_score_time': array([5.62521248, 6.57907596, 6.33835468, 5.91708622, 5.95872955,\n",
       "        4.62666049, 5.21121984, 4.54415231, 6.59364443]),\n",
       " 'std_score_time': array([2.05467355, 2.73531322, 1.93243228, 1.54820399, 1.7377465 ,\n",
       "        0.40393731, 0.55393893, 0.25077714, 3.69965901]),\n",
       " 'param_C': masked_array(data=[1, 1, 1, 10, 10, 10, 20, 20, 20],\n",
       "              mask=[False, False, False, False, False, False, False, False,\n",
       "                    False],\n",
       "        fill_value='?',\n",
       "             dtype=object),\n",
       " 'param_class_weight': masked_array(data=[{'DIRECT': 1, 'PERMISSION': 2},\n",
       "                    {'DIRECT': 1, 'PERMISSION': 3},\n",
       "                    {'DIRECT': 1, 'PERMISSION': 5},\n",
       "                    {'DIRECT': 1, 'PERMISSION': 2},\n",
       "                    {'DIRECT': 1, 'PERMISSION': 3},\n",
       "                    {'DIRECT': 1, 'PERMISSION': 5},\n",
       "                    {'DIRECT': 1, 'PERMISSION': 2},\n",
       "                    {'DIRECT': 1, 'PERMISSION': 3},\n",
       "                    {'DIRECT': 1, 'PERMISSION': 5}],\n",
       "              mask=[False, False, False, False, False, False, False, False,\n",
       "                    False],\n",
       "        fill_value='?',\n",
       "             dtype=object),\n",
       " 'params': [{'C': 1, 'class_weight': {'DIRECT': 1, 'PERMISSION': 2}},\n",
       "  {'C': 1, 'class_weight': {'DIRECT': 1, 'PERMISSION': 3}},\n",
       "  {'C': 1, 'class_weight': {'DIRECT': 1, 'PERMISSION': 5}},\n",
       "  {'C': 10, 'class_weight': {'DIRECT': 1, 'PERMISSION': 2}},\n",
       "  {'C': 10, 'class_weight': {'DIRECT': 1, 'PERMISSION': 3}},\n",
       "  {'C': 10, 'class_weight': {'DIRECT': 1, 'PERMISSION': 5}},\n",
       "  {'C': 20, 'class_weight': {'DIRECT': 1, 'PERMISSION': 2}},\n",
       "  {'C': 20, 'class_weight': {'DIRECT': 1, 'PERMISSION': 3}},\n",
       "  {'C': 20, 'class_weight': {'DIRECT': 1, 'PERMISSION': 5}}],\n",
       " 'split0_test_score': array([0.94540613, 0.93874834, 0.93874834, 0.94540613, 0.94407457,\n",
       "        0.94540613, 0.94540613, 0.94540613, 0.94407457]),\n",
       " 'split1_test_score': array([0.93874834, 0.93741678, 0.94274301, 0.92942743, 0.93075899,\n",
       "        0.9334221 , 0.92942743, 0.92942743, 0.93075899]),\n",
       " 'split2_test_score': array([0.924     , 0.92533333, 0.92666667, 0.92933333, 0.92933333,\n",
       "        0.92933333, 0.928     , 0.928     , 0.92933333]),\n",
       " 'split3_test_score': array([0.94133333, 0.936     , 0.936     , 0.93866667, 0.93866667,\n",
       "        0.93866667, 0.93866667, 0.93866667, 0.93866667]),\n",
       " 'split4_test_score': array([0.93066667, 0.932     , 0.93333333, 0.92933333, 0.92933333,\n",
       "        0.92933333, 0.928     , 0.928     , 0.92933333]),\n",
       " 'mean_test_score': array([0.93603089, 0.93389969, 0.93549827, 0.93443338, 0.93443338,\n",
       "        0.93523231, 0.93390004, 0.93390004, 0.93443338]),\n",
       " 'std_test_score': array([0.00770601, 0.00484318, 0.00540343, 0.00656357, 0.00593962,\n",
       "        0.00613472, 0.00699623, 0.00699623, 0.00593962]),\n",
       " 'rank_test_score': array([1, 9, 2, 4, 4, 3, 7, 7, 4], dtype=int32)}"
      ]
     },
     "execution_count": 114,
     "metadata": {},
     "output_type": "execute_result"
    }
   ],
   "source": [
    "%%time\n",
    "\n",
    "\n",
    "Model_tunining=GridSearchCV(LinearSVC(),{\n",
    "    'C':[1,10,20],\n",
    "    'class_weight':[{'DIRECT': 1,'PERMISSION': 2} ,{'DIRECT': 1,'PERMISSION': 3} ,{'DIRECT': 1,'PERMISSION': 5}]\n",
    "},cv=5\n",
    ")\n",
    "Model_tunining.fit( X_train,Y_train)\n",
    "Model_tunining.cv_results_"
   ]
  },
  {
   "cell_type": "code",
   "execution_count": 123,
   "id": "2b9c2ab0-8c64-4109-8210-22b627208eb9",
   "metadata": {},
   "outputs": [
    {
     "data": {
      "text/html": [
       "<div>\n",
       "<style scoped>\n",
       "    .dataframe tbody tr th:only-of-type {\n",
       "        vertical-align: middle;\n",
       "    }\n",
       "\n",
       "    .dataframe tbody tr th {\n",
       "        vertical-align: top;\n",
       "    }\n",
       "\n",
       "    .dataframe thead th {\n",
       "        text-align: right;\n",
       "    }\n",
       "</style>\n",
       "<table border=\"1\" class=\"dataframe\">\n",
       "  <thead>\n",
       "    <tr style=\"text-align: right;\">\n",
       "      <th></th>\n",
       "      <th>mean_fit_time</th>\n",
       "      <th>std_fit_time</th>\n",
       "      <th>mean_score_time</th>\n",
       "      <th>std_score_time</th>\n",
       "      <th>param_C</th>\n",
       "      <th>param_class_weight</th>\n",
       "      <th>params</th>\n",
       "      <th>split0_test_score</th>\n",
       "      <th>split1_test_score</th>\n",
       "      <th>split2_test_score</th>\n",
       "      <th>split3_test_score</th>\n",
       "      <th>split4_test_score</th>\n",
       "      <th>mean_test_score</th>\n",
       "      <th>std_test_score</th>\n",
       "      <th>rank_test_score</th>\n",
       "    </tr>\n",
       "  </thead>\n",
       "  <tbody>\n",
       "    <tr>\n",
       "      <th>0</th>\n",
       "      <td>25.778055</td>\n",
       "      <td>8.854729</td>\n",
       "      <td>5.625212</td>\n",
       "      <td>2.054674</td>\n",
       "      <td>1</td>\n",
       "      <td>{'DIRECT': 1, 'PERMISSION': 2}</td>\n",
       "      <td>{'C': 1, 'class_weight': {'DIRECT': 1, 'PERMIS...</td>\n",
       "      <td>0.945406</td>\n",
       "      <td>0.938748</td>\n",
       "      <td>0.924000</td>\n",
       "      <td>0.941333</td>\n",
       "      <td>0.930667</td>\n",
       "      <td>0.936031</td>\n",
       "      <td>0.007706</td>\n",
       "      <td>1</td>\n",
       "    </tr>\n",
       "    <tr>\n",
       "      <th>1</th>\n",
       "      <td>28.500071</td>\n",
       "      <td>13.309659</td>\n",
       "      <td>6.579076</td>\n",
       "      <td>2.735313</td>\n",
       "      <td>1</td>\n",
       "      <td>{'DIRECT': 1, 'PERMISSION': 3}</td>\n",
       "      <td>{'C': 1, 'class_weight': {'DIRECT': 1, 'PERMIS...</td>\n",
       "      <td>0.938748</td>\n",
       "      <td>0.937417</td>\n",
       "      <td>0.925333</td>\n",
       "      <td>0.936000</td>\n",
       "      <td>0.932000</td>\n",
       "      <td>0.933900</td>\n",
       "      <td>0.004843</td>\n",
       "      <td>9</td>\n",
       "    </tr>\n",
       "    <tr>\n",
       "      <th>2</th>\n",
       "      <td>24.694110</td>\n",
       "      <td>4.509670</td>\n",
       "      <td>6.338355</td>\n",
       "      <td>1.932432</td>\n",
       "      <td>1</td>\n",
       "      <td>{'DIRECT': 1, 'PERMISSION': 5}</td>\n",
       "      <td>{'C': 1, 'class_weight': {'DIRECT': 1, 'PERMIS...</td>\n",
       "      <td>0.938748</td>\n",
       "      <td>0.942743</td>\n",
       "      <td>0.926667</td>\n",
       "      <td>0.936000</td>\n",
       "      <td>0.933333</td>\n",
       "      <td>0.935498</td>\n",
       "      <td>0.005403</td>\n",
       "      <td>2</td>\n",
       "    </tr>\n",
       "    <tr>\n",
       "      <th>3</th>\n",
       "      <td>20.658023</td>\n",
       "      <td>1.306687</td>\n",
       "      <td>5.917086</td>\n",
       "      <td>1.548204</td>\n",
       "      <td>10</td>\n",
       "      <td>{'DIRECT': 1, 'PERMISSION': 2}</td>\n",
       "      <td>{'C': 10, 'class_weight': {'DIRECT': 1, 'PERMI...</td>\n",
       "      <td>0.945406</td>\n",
       "      <td>0.929427</td>\n",
       "      <td>0.929333</td>\n",
       "      <td>0.938667</td>\n",
       "      <td>0.929333</td>\n",
       "      <td>0.934433</td>\n",
       "      <td>0.006564</td>\n",
       "      <td>4</td>\n",
       "    </tr>\n",
       "    <tr>\n",
       "      <th>4</th>\n",
       "      <td>24.407741</td>\n",
       "      <td>4.884982</td>\n",
       "      <td>5.958730</td>\n",
       "      <td>1.737747</td>\n",
       "      <td>10</td>\n",
       "      <td>{'DIRECT': 1, 'PERMISSION': 3}</td>\n",
       "      <td>{'C': 10, 'class_weight': {'DIRECT': 1, 'PERMI...</td>\n",
       "      <td>0.944075</td>\n",
       "      <td>0.930759</td>\n",
       "      <td>0.929333</td>\n",
       "      <td>0.938667</td>\n",
       "      <td>0.929333</td>\n",
       "      <td>0.934433</td>\n",
       "      <td>0.005940</td>\n",
       "      <td>4</td>\n",
       "    </tr>\n",
       "    <tr>\n",
       "      <th>5</th>\n",
       "      <td>22.192336</td>\n",
       "      <td>2.345229</td>\n",
       "      <td>4.626660</td>\n",
       "      <td>0.403937</td>\n",
       "      <td>10</td>\n",
       "      <td>{'DIRECT': 1, 'PERMISSION': 5}</td>\n",
       "      <td>{'C': 10, 'class_weight': {'DIRECT': 1, 'PERMI...</td>\n",
       "      <td>0.945406</td>\n",
       "      <td>0.933422</td>\n",
       "      <td>0.929333</td>\n",
       "      <td>0.938667</td>\n",
       "      <td>0.929333</td>\n",
       "      <td>0.935232</td>\n",
       "      <td>0.006135</td>\n",
       "      <td>3</td>\n",
       "    </tr>\n",
       "    <tr>\n",
       "      <th>6</th>\n",
       "      <td>20.743882</td>\n",
       "      <td>1.207467</td>\n",
       "      <td>5.211220</td>\n",
       "      <td>0.553939</td>\n",
       "      <td>20</td>\n",
       "      <td>{'DIRECT': 1, 'PERMISSION': 2}</td>\n",
       "      <td>{'C': 20, 'class_weight': {'DIRECT': 1, 'PERMI...</td>\n",
       "      <td>0.945406</td>\n",
       "      <td>0.929427</td>\n",
       "      <td>0.928000</td>\n",
       "      <td>0.938667</td>\n",
       "      <td>0.928000</td>\n",
       "      <td>0.933900</td>\n",
       "      <td>0.006996</td>\n",
       "      <td>7</td>\n",
       "    </tr>\n",
       "    <tr>\n",
       "      <th>7</th>\n",
       "      <td>20.431224</td>\n",
       "      <td>1.040236</td>\n",
       "      <td>4.544152</td>\n",
       "      <td>0.250777</td>\n",
       "      <td>20</td>\n",
       "      <td>{'DIRECT': 1, 'PERMISSION': 3}</td>\n",
       "      <td>{'C': 20, 'class_weight': {'DIRECT': 1, 'PERMI...</td>\n",
       "      <td>0.945406</td>\n",
       "      <td>0.929427</td>\n",
       "      <td>0.928000</td>\n",
       "      <td>0.938667</td>\n",
       "      <td>0.928000</td>\n",
       "      <td>0.933900</td>\n",
       "      <td>0.006996</td>\n",
       "      <td>7</td>\n",
       "    </tr>\n",
       "    <tr>\n",
       "      <th>8</th>\n",
       "      <td>24.423186</td>\n",
       "      <td>5.380663</td>\n",
       "      <td>6.593644</td>\n",
       "      <td>3.699659</td>\n",
       "      <td>20</td>\n",
       "      <td>{'DIRECT': 1, 'PERMISSION': 5}</td>\n",
       "      <td>{'C': 20, 'class_weight': {'DIRECT': 1, 'PERMI...</td>\n",
       "      <td>0.944075</td>\n",
       "      <td>0.930759</td>\n",
       "      <td>0.929333</td>\n",
       "      <td>0.938667</td>\n",
       "      <td>0.929333</td>\n",
       "      <td>0.934433</td>\n",
       "      <td>0.005940</td>\n",
       "      <td>4</td>\n",
       "    </tr>\n",
       "  </tbody>\n",
       "</table>\n",
       "</div>"
      ],
      "text/plain": [
       "   mean_fit_time  std_fit_time  mean_score_time  std_score_time  param_C  \\\n",
       "0      25.778055      8.854729         5.625212        2.054674        1   \n",
       "1      28.500071     13.309659         6.579076        2.735313        1   \n",
       "2      24.694110      4.509670         6.338355        1.932432        1   \n",
       "3      20.658023      1.306687         5.917086        1.548204       10   \n",
       "4      24.407741      4.884982         5.958730        1.737747       10   \n",
       "5      22.192336      2.345229         4.626660        0.403937       10   \n",
       "6      20.743882      1.207467         5.211220        0.553939       20   \n",
       "7      20.431224      1.040236         4.544152        0.250777       20   \n",
       "8      24.423186      5.380663         6.593644        3.699659       20   \n",
       "\n",
       "               param_class_weight  \\\n",
       "0  {'DIRECT': 1, 'PERMISSION': 2}   \n",
       "1  {'DIRECT': 1, 'PERMISSION': 3}   \n",
       "2  {'DIRECT': 1, 'PERMISSION': 5}   \n",
       "3  {'DIRECT': 1, 'PERMISSION': 2}   \n",
       "4  {'DIRECT': 1, 'PERMISSION': 3}   \n",
       "5  {'DIRECT': 1, 'PERMISSION': 5}   \n",
       "6  {'DIRECT': 1, 'PERMISSION': 2}   \n",
       "7  {'DIRECT': 1, 'PERMISSION': 3}   \n",
       "8  {'DIRECT': 1, 'PERMISSION': 5}   \n",
       "\n",
       "                                              params  split0_test_score  \\\n",
       "0  {'C': 1, 'class_weight': {'DIRECT': 1, 'PERMIS...           0.945406   \n",
       "1  {'C': 1, 'class_weight': {'DIRECT': 1, 'PERMIS...           0.938748   \n",
       "2  {'C': 1, 'class_weight': {'DIRECT': 1, 'PERMIS...           0.938748   \n",
       "3  {'C': 10, 'class_weight': {'DIRECT': 1, 'PERMI...           0.945406   \n",
       "4  {'C': 10, 'class_weight': {'DIRECT': 1, 'PERMI...           0.944075   \n",
       "5  {'C': 10, 'class_weight': {'DIRECT': 1, 'PERMI...           0.945406   \n",
       "6  {'C': 20, 'class_weight': {'DIRECT': 1, 'PERMI...           0.945406   \n",
       "7  {'C': 20, 'class_weight': {'DIRECT': 1, 'PERMI...           0.945406   \n",
       "8  {'C': 20, 'class_weight': {'DIRECT': 1, 'PERMI...           0.944075   \n",
       "\n",
       "   split1_test_score  split2_test_score  split3_test_score  split4_test_score  \\\n",
       "0           0.938748           0.924000           0.941333           0.930667   \n",
       "1           0.937417           0.925333           0.936000           0.932000   \n",
       "2           0.942743           0.926667           0.936000           0.933333   \n",
       "3           0.929427           0.929333           0.938667           0.929333   \n",
       "4           0.930759           0.929333           0.938667           0.929333   \n",
       "5           0.933422           0.929333           0.938667           0.929333   \n",
       "6           0.929427           0.928000           0.938667           0.928000   \n",
       "7           0.929427           0.928000           0.938667           0.928000   \n",
       "8           0.930759           0.929333           0.938667           0.929333   \n",
       "\n",
       "   mean_test_score  std_test_score  rank_test_score  \n",
       "0         0.936031        0.007706                1  \n",
       "1         0.933900        0.004843                9  \n",
       "2         0.935498        0.005403                2  \n",
       "3         0.934433        0.006564                4  \n",
       "4         0.934433        0.005940                4  \n",
       "5         0.935232        0.006135                3  \n",
       "6         0.933900        0.006996                7  \n",
       "7         0.933900        0.006996                7  \n",
       "8         0.934433        0.005940                4  "
      ]
     },
     "execution_count": 123,
     "metadata": {},
     "output_type": "execute_result"
    }
   ],
   "source": [
    "import pandas as pd\n",
    "\n",
    "data = {\n",
    "    'mean_fit_time': [25.77805538, 28.50007071, 24.69411035, 20.65802298, 24.40774064, 22.19233599, 20.74388247, 20.43122425, 24.42318583],\n",
    "    'std_fit_time': [8.85472915, 13.30965931, 4.50967025, 1.30668674, 4.88498211, 2.34522856, 1.20746678, 1.04023623, 5.38066263],\n",
    "    'mean_score_time': [5.62521248, 6.57907596, 6.33835468, 5.91708622, 5.95872955, 4.62666049, 5.21121984, 4.54415231, 6.59364443],\n",
    "    'std_score_time': [2.05467355, 2.73531322, 1.93243228, 1.54820399, 1.7377465, 0.40393731, 0.55393893, 0.25077714, 3.69965901],\n",
    "    'param_C': [1, 1, 1, 10, 10, 10, 20, 20, 20],\n",
    "    'param_class_weight': [{'DIRECT': 1, 'PERMISSION': 2}, {'DIRECT': 1, 'PERMISSION': 3}, {'DIRECT': 1, 'PERMISSION': 5}, {'DIRECT': 1, 'PERMISSION': 2}, {'DIRECT': 1, 'PERMISSION': 3}, {'DIRECT': 1, 'PERMISSION': 5}, {'DIRECT': 1, 'PERMISSION': 2}, {'DIRECT': 1, 'PERMISSION': 3}, {'DIRECT': 1, 'PERMISSION': 5}],\n",
    "    'params': [{'C': 1, 'class_weight': {'DIRECT': 1, 'PERMISSION': 2}}, {'C': 1, 'class_weight': {'DIRECT': 1, 'PERMISSION': 3}}, {'C': 1, 'class_weight': {'DIRECT': 1, 'PERMISSION': 5}}, {'C': 10, 'class_weight': {'DIRECT': 1, 'PERMISSION': 2}}, {'C': 10, 'class_weight': {'DIRECT': 1, 'PERMISSION': 3}}, {'C': 10, 'class_weight': {'DIRECT': 1, 'PERMISSION': 5}}, {'C': 20, 'class_weight': {'DIRECT': 1, 'PERMISSION': 2}}, {'C': 20, 'class_weight': {'DIRECT': 1, 'PERMISSION': 3}}, {'C': 20, 'class_weight': {'DIRECT': 1, 'PERMISSION': 5}}],\n",
    "    'split0_test_score': [0.94540613, 0.93874834, 0.93874834, 0.94540613, 0.94407457, 0.94540613, 0.94540613, 0.94540613, 0.94407457],\n",
    "    'split1_test_score': [0.93874834, 0.93741678, 0.94274301, 0.92942743, 0.93075899, 0.9334221, 0.92942743, 0.92942743, 0.93075899],\n",
    "    'split2_test_score': [0.924, 0.92533333, 0.92666667, 0.92933333, 0.92933333, 0.92933333, 0.928, 0.928, 0.92933333],\n",
    "    'split3_test_score': [0.94133333, 0.936, 0.936, 0.93866667, 0.93866667, 0.93866667, 0.93866667, 0.93866667, 0.93866667],\n",
    "    'split4_test_score': [0.93066667, 0.932, 0.93333333, 0.92933333, 0.92933333, 0.92933333, 0.928, 0.928, 0.92933333],\n",
    "    'mean_test_score': [0.93603089, 0.93389969, 0.93549827, 0.93443338, 0.93443338, 0.93523231, 0.93390004, 0.93390004, 0.93443338],\n",
    "    'std_test_score': [0.00770601, 0.00484318, 0.00540343, 0.00656357, 0.00593962, 0.00613472, 0.00699623, 0.00699623, 0.00593962],\n",
    "    'rank_test_score': [1, 9, 2, 4, 4, 3, 7, 7, 4]\n",
    "}\n",
    "\n",
    "dfScore = pd.DataFrame(data)\n",
    "dfScore"
   ]
  },
  {
   "cell_type": "code",
   "execution_count": 131,
   "id": "ab38ca63-fff6-4b5a-a52e-d2e88f88db4a",
   "metadata": {},
   "outputs": [
    {
     "name": "stdout",
     "output_type": "stream",
     "text": [
      "0.9402985074626866\n",
      "              precision    recall  f1-score   support\n",
      "\n",
      "      DIRECT       0.92      0.95      0.93       413\n",
      "  PERMISSION       0.96      0.93      0.95       525\n",
      "\n",
      "    accuracy                           0.94       938\n",
      "   macro avg       0.94      0.94      0.94       938\n",
      "weighted avg       0.94      0.94      0.94       938\n",
      "\n",
      "CPU times: user 16.5 s, sys: 3.47 s, total: 20 s\n",
      "Wall time: 23.9 s\n"
     ]
    }
   ],
   "source": [
    "%%time\n",
    "#new model after tuning:\n",
    "model_tuned=LinearSVC(\n",
    "    C=1,\n",
    "    class_weight={'DIRECT': 1,'PERMISSION': 20}\n",
    "    \n",
    "\n",
    "\n",
    "    \n",
    ")\n",
    "model_tuned.fit(X_train,Y_train)\n",
    "print(model_tuned.score(X_test,Y_test))\n",
    "\n",
    "y_pred=model_tuned.predict(X_test)\n",
    "print(classification_report(Y_test,y_pred))\n",
    "\n"
   ]
  },
  {
   "cell_type": "code",
   "execution_count": 133,
   "id": "845a087b-33d8-408c-ab29-43353d3f52f4",
   "metadata": {},
   "outputs": [
    {
     "data": {
      "text/plain": [
       "array(['PERMISSION'], dtype=object)"
      ]
     },
     "execution_count": 133,
     "metadata": {},
     "output_type": "execute_result"
    }
   ],
   "source": [
    "test_str=[\"\"\"\n",
    "can i ask  a question here?\n",
    "\n",
    "\"\"\"]\n",
    "test_x=tfidf_vectorizer.transform(test_str)\n",
    "model_tuned.predict(test_x)"
   ]
  },
  {
   "cell_type": "code",
   "execution_count": 105,
   "id": "cef77164-daa5-40a8-bcc6-f9e638fa52d1",
   "metadata": {},
   "outputs": [
    {
     "name": "stdout",
     "output_type": "stream",
     "text": [
      "0.9360341151385928\n",
      "              precision    recall  f1-score   support\n",
      "\n",
      "      DIRECT       0.90      0.96      0.93       413\n",
      "  PERMISSION       0.97      0.91      0.94       525\n",
      "\n",
      "    accuracy                           0.94       938\n",
      "   macro avg       0.93      0.94      0.94       938\n",
      "weighted avg       0.94      0.94      0.94       938\n",
      "\n"
     ]
    }
   ],
   "source": [
    "print(model_Svm.score(X_test,Y_test))\n",
    "\n",
    "y_pred=model_Svm.predict(X_test)\n",
    "print(classification_report(Y_test,y_pred))"
   ]
  },
  {
   "cell_type": "code",
   "execution_count": 89,
   "id": "982a1007-fddc-4af7-813f-3075f7966e42",
   "metadata": {},
   "outputs": [
    {
     "data": {
      "text/plain": [
       "810     False\n",
       "618     False\n",
       "3827    False\n",
       "2445    False\n",
       "2750    False\n",
       "        ...  \n",
       "4426    False\n",
       "466     False\n",
       "3092    False\n",
       "3772    False\n",
       "860     False\n",
       "Name: label, Length: 3752, dtype: bool"
      ]
     },
     "execution_count": 89,
     "metadata": {},
     "output_type": "execute_result"
    }
   ],
   "source": []
  },
  {
   "cell_type": "code",
   "execution_count": 16,
   "id": "3a3c7c9e-df12-48f3-8160-345c3301f7ef",
   "metadata": {},
   "outputs": [
    {
     "data": {
      "text/plain": [
       "0.9201388888888888"
      ]
     },
     "execution_count": 16,
     "metadata": {},
     "output_type": "execute_result"
    }
   ],
   "source": [
    "#accuracy score:\n",
    "model.score(X_test,Y_test)\n"
   ]
  },
  {
   "cell_type": "markdown",
   "id": "ad8612eb-c36e-4f17-8fd5-0fdbc40213d3",
   "metadata": {},
   "source": [
    "#### Testing out some examples: "
   ]
  },
  {
   "cell_type": "code",
   "execution_count": 41,
   "id": "225c6f0c-9ee6-4fbd-b210-3e21380534c5",
   "metadata": {},
   "outputs": [
    {
     "data": {
      "text/plain": [
       "array(['DIRECT'], dtype=object)"
      ]
     },
     "execution_count": 41,
     "metadata": {},
     "output_type": "execute_result"
    }
   ],
   "source": [
    "test_str=[\"\"\"\n",
    "can i pose a question here?\n",
    "\n",
    "\"\"\"]\n",
    "test_x=tfidf_vectorizer.transform(test_str)\n",
    "model.predict(test_x)"
   ]
  },
  {
   "cell_type": "code",
   "execution_count": 41,
   "id": "d43a2ffc-4429-4ef8-b0d6-27a1e6fd1985",
   "metadata": {},
   "outputs": [
    {
     "name": "stdout",
     "output_type": "stream",
     "text": [
      "the question:  ['\\n\\n can i pose it to the community?\\n\\n']\n"
     ]
    },
    {
     "data": {
      "text/plain": [
       "array(['DIRECT'], dtype=object)"
      ]
     },
     "execution_count": 41,
     "metadata": {},
     "output_type": "execute_result"
    }
   ],
   "source": [
    "test_str=[\"\"\"\n",
    "\n",
    " can i pose it to the community?\n",
    "\n",
    "\"\"\"]\n",
    "test_x=tfidf_vectorizer.transform(test_str)\n",
    "#model.predict(test_x)\n",
    "print('the question: ',test_str)\n",
    "\n",
    "model.predict(test_x)\n",
    "\n",
    "\n",
    "#trying to medigate the long post => direct\n",
    " \n"
   ]
  },
  {
   "cell_type": "code",
   "execution_count": 180,
   "id": "f9b7d21e-619d-4698-bf03-4625a5ffff05",
   "metadata": {},
   "outputs": [
    {
     "name": "stdout",
     "output_type": "stream",
     "text": [
      "['good afternoon al i m a diy fashionista upcycling old', 'clothes i m sewing a new outfit and i have', 'a question about fabric patterns can i pose it to the community?']\n"
     ]
    }
   ],
   "source": [
    "test_str=\"\"\"\n",
    "good afternoon al i m a diy fashionista upcycling old clothes i m sewing a new outfit and i have a question about fabric patterns can i pose it to the community?\n",
    "\"\"\"\n",
    "def segment_posts(test_str, ave_len=12):\n",
    "   \n",
    "    # Tokenize the input string\n",
    "    big_str = test_str.split()\n",
    "    if len(big_str)<=ave_len:\n",
    "        return [test_str]\n",
    "    \n",
    "    # Calculate the number of dividers\n",
    "    num_dividers =round( len(big_str) / ave_len)  # Rename the variable to avoid conflict\n",
    "    # Calculate the remainder\n",
    "    remainder = len(big_str) % ave_len\n",
    "    # Calculate the length of each segment\n",
    "    segment_length = len(big_str) // num_dividers\n",
    "    \n",
    "    # Initialize variables\n",
    "    segments = []\n",
    "    start_index = 0\n",
    "\n",
    "    # Create segments\n",
    "    for i in range(num_dividers):\n",
    "        end_index = min(start_index + segment_length, len(big_str))\n",
    "        segments.append(big_str[start_index:end_index])\n",
    "        start_index = end_index\n",
    "    \n",
    "    # Add the remaining words to the last segment\n",
    "    segments[-1] += big_str[start_index:]\n",
    "\n",
    "\n",
    "    segments_sent=[\" \".join(segment) for segment in segments ]\n",
    "\n",
    "    return segments_sent\n",
    "\n",
    "# Example usage\n",
    "#test_str = \"This is a test sentence to split into segments.\"\n",
    "segments = segment_posts(test_str, ave_len=12)# segments the longer questions to help with some of the false negatives\n",
    "print(segments)\n",
    "\n",
    "\n",
    "\n",
    "\n"
   ]
  },
  {
   "cell_type": "code",
   "execution_count": 62,
   "id": "e5f5d66e-c709-4ebc-add0-0315c84df638",
   "metadata": {},
   "outputs": [
    {
     "name": "stdout",
     "output_type": "stream",
     "text": [
      "['PERMISSION']\n",
      "['PERMISSION']\n",
      "['PERMISSION']\n",
      "['DIRECT']\n",
      "['DIRECT']\n",
      "['PERMISSION', 'PERMISSION', 'PERMISSION', 'DIRECT', 'DIRECT']\n",
      "[0.56666667 0.43333333]\n"
     ]
    },
    {
     "data": {
      "text/plain": [
       "'PERMISSION'"
      ]
     },
     "execution_count": 62,
     "metadata": {},
     "output_type": "execute_result"
    }
   ],
   "source": [
    "# majority vote prediction\n",
    "def maj_pred(post_list,threshold = 0.71,use_tfidf=False):\n",
    "    permission_tracker=[]\n",
    "\n",
    "    for post in post_list:\n",
    "        if use_tfidf:\n",
    "            test_x=[post]\n",
    "\n",
    "        else:\n",
    "            \n",
    "            test_x=tfidf_vectorizer.transform([post])\n",
    "\n",
    "        #predicted_labels = model.predict(test_x)\n",
    "\n",
    "        # print(model.predict(test_x))\n",
    "        # permission_tracker.append(model.predict(test_x))\n",
    "        \n",
    "        # Get the probability scores for each class\n",
    "        probability_scores = model.predict_proba(test_x)\n",
    "        predicted_labels = model.predict(test_x)\n",
    "        \n",
    "        # Display the predicted labels and probability scores\n",
    "        for label, prob_scores in zip(predicted_labels, probability_scores):\n",
    "            # print(f\"Predicted label: {label}\")\n",
    "            # print(f\"Probability scores: {prob_scores}\")\n",
    "            # print(f\"the segement: {post}\")\n",
    "        \n",
    "        \n",
    "             #bias or threshold\n",
    "            # Adjust probability scores based on the threshold\n",
    "            adjusted_scores = [score if label == 'PERMISSION' and score >= threshold else 0.0 for label, score in zip(predicted_labels, probability_scores[:, 1])]\n",
    "            # Get the adjusted predicted labels based on adjusted scores\n",
    "            adjusted_predicted_labels = ['PERMISSION' if score > 0 else 'DIRECT' for score in adjusted_scores]\n",
    "            # Display the adjusted predicted labels\n",
    "            print(adjusted_predicted_labels)\n",
    "            permission_tracker.append(adjusted_predicted_labels[0])\n",
    "            #print(\"Adjusted Predicted Labels:\", adjusted_predicted_labels)\n",
    "            \n",
    "            \n",
    "        \n",
    "\n",
    "\n",
    "\n",
    "    \n",
    "    if permission_tracker[-1]==['PERMISSION']:\n",
    "        print(prob_scores)\n",
    "        return 'PERMISSION'\n",
    "    else:\n",
    "        print(permission_tracker)\n",
    "        label_counts = Counter(permission_tracker)\n",
    "\n",
    "# Find the label with the highest count\n",
    "        majority_label = label_counts.most_common(1)[0][0]\n",
    "\n",
    "\n",
    "        \n",
    "        print( prob_scores)\n",
    "        return majority_label\n",
    "    #perm_vote=[permis+i for model.predict(post) in post_list]\n",
    "\n",
    "test_str=\"\"\"\n",
    "anyone here good at X?    anyone here good at X?   anyone here good at X?   anyone here good at X?    anyone here good at X?    anyone here good at X?   anyone here good at X?  greetings folk i m a nature lover birdwatching in my backyard i m spotting different bird species and identification \n",
    "is it cool if i ask a question here??\n",
    "\"\"\"\n",
    "segments = segment_posts(test_str, ave_len=12)# segments the longer questions to help with some of the false negatives\n",
    "#print(segments)\n",
    "\n",
    "\n",
    "maj_pred(segment_posts(test_str, ave_len=12),threshold=0.7)"
   ]
  },
  {
   "cell_type": "code",
   "execution_count": 73,
   "id": "bebc4b6f-65d1-4cbc-87aa-03b72745a620",
   "metadata": {},
   "outputs": [
    {
     "name": "stdout",
     "output_type": "stream",
     "text": [
      "['PERMISSION']\n",
      "['PERMISSION']\n",
      "[0.21 0.79]\n"
     ]
    },
    {
     "data": {
      "text/plain": [
       "'PERMISSION'"
      ]
     },
     "execution_count": 73,
     "metadata": {},
     "output_type": "execute_result"
    }
   ],
   "source": [
    "#testing functions:\n",
    "\n",
    "test_str=\"\"\"\n",
    "anyone here one use Neat algo here ?\n",
    "\"\"\"\n",
    "\n",
    "maj_pred(segment_posts(test_str, ave_len=12),threshold=0.6)"
   ]
  },
  {
   "cell_type": "code",
   "execution_count": 48,
   "id": "820d7663-a62b-46f8-9a2c-51c586d91456",
   "metadata": {
    "scrolled": true
   },
   "outputs": [
    {
     "name": "stdout",
     "output_type": "stream",
     "text": [
      "--------before the cheesing ----------\n",
      "Type 1 Errors (False Positives): 13\n",
      "Type 2 Errors (False Negatives): 56\n",
      "--------after the cheesing ----------\n",
      "Type 1 Errors (False Positives): 2\n",
      "Type 2 Errors (False Negatives): 90\n"
     ]
    }
   ],
   "source": [
    "from sklearn.metrics import confusion_matrix\n",
    "# Get True and Predicted Labels\n",
    "\n",
    "\n",
    "\n",
    "#y_pred= maj_pred(segment_posts(X_test, ave_len=12),threshold=0.7,use_tfidf=True)\n",
    "\n",
    "y_pred = model.predict(X_test)\n",
    "probability_scores = model.predict_proba(X_test)\n",
    "#print(probability_scores)\n",
    "permission_tracker=[]\n",
    "\n",
    "threshold = 0.71\n",
    "for label, prob_scores in zip(y_pred, probability_scores):\n",
    "            # print(f\"Predicted label: {label}\")\n",
    "            # print(f\"Probability scores: {prob_scores}\")\n",
    "            # print(f\"the segement: {post}\")\n",
    "        \n",
    "        \n",
    "             #bias or threshold\n",
    "            # Adjust probability scores based on the threshold\n",
    "    adjusted_scores = [score if label == 'PERMISSION' and score >= threshold else 0.0 for label, score in zip(y_pred, probability_scores[:, 1])]\n",
    "            # Get the adjusted predicted labels based on adjusted scores\n",
    "    adjusted_predicted_labels = ['PERMISSION' if score > 0 else 'DIRECT' for score in adjusted_scores]\n",
    "\n",
    "\n",
    "#print(adjusted_predicted_labels)\n",
    "# Calculate Confusion Matrix\n",
    "conf_matrix = confusion_matrix(Y_test, y_pred)\n",
    "\n",
    "# Extract True Positives, True Negatives, False Positives, False Negatives\n",
    "tn, fp, fn, tp = conf_matrix.ravel()\n",
    "\n",
    "# Calculate Type 1 and Type 2 Errors\n",
    "type1_errors = fp  # False Positives\n",
    "type2_errors = fn  # False Negatives\n",
    "print('--------before the cheesing ----------')\n",
    "print(\"Type 1 Errors (False Positives):\", type1_errors)\n",
    "print(\"Type 2 Errors (False Negatives):\", type2_errors)\n",
    "\n",
    "\n",
    "\n",
    "\n",
    "#print(adjusted_predicted_labels)\n",
    "# Calculate Confusion Matrix\n",
    "conf_matrix = confusion_matrix(Y_test, adjusted_predicted_labels)\n",
    "\n",
    "# Extract True Positives, True Negatives, False Positives, False Negatives\n",
    "tn, fp, fn, tp = conf_matrix.ravel()\n",
    "\n",
    "# Calculate Type 1 and Type 2 Errors\n",
    "type1_errors = fp  # False Positives\n",
    "type2_errors = fn  # False Negatives\n",
    "print('--------after the cheesing ----------')\n",
    "print(\"Type 1 Errors (False Positives):\", type1_errors)\n",
    "print(\"Type 2 Errors (False Negatives):\", type2_errors)\n",
    "\n",
    "\n"
   ]
  },
  {
   "cell_type": "code",
   "execution_count": 64,
   "id": "85e92d76-3a8e-4b00-a2c2-98783a4f9f64",
   "metadata": {},
   "outputs": [
    {
     "name": "stdout",
     "output_type": "stream",
     "text": [
      "Balanced accuracy RAW: 0.9201388888888888\n",
      "Balanced accuracy with modifications: 0.8935185185185185\n"
     ]
    }
   ],
   "source": [
    "from sklearn.metrics import balanced_accuracy_score\n",
    "\n",
    "# Assuming y_true and y_pred are your true and predicted labels\n",
    "balanced_acc = balanced_accuracy_score(Y_test, y_pred)\n",
    "print(\"Balanced accuracy RAW:\", balanced_acc)\n",
    "# Assuming y_true and y_pred are your true and predicted labels\n",
    "balanced_acc = balanced_accuracy_score(Y_test, adjusted_predicted_labels)\n",
    "print(\"Balanced accuracy with modifications:\", balanced_acc)"
   ]
  },
  {
   "cell_type": "code",
   "execution_count": 162,
   "id": "56e1afde-301a-4a5d-944e-24bd64e09c8f",
   "metadata": {},
   "outputs": [
    {
     "name": "stdout",
     "output_type": "stream",
     "text": [
      "Balanced accuracy RAW: 0.941501210653753\n"
     ]
    }
   ],
   "source": [
    "from sklearn.metrics import balanced_accuracy_score\n",
    "\n",
    "#after tuning\n",
    "\n",
    "y_pred_tuned = model_tuned.predict(X_test)\n",
    "\n",
    "balanced_acc = balanced_accuracy_score(Y_test, y_pred_tuned)\n",
    "print(\"Balanced accuracy RAW:\", balanced_acc)\n",
    "\n",
    "\n",
    "# balanced_acc = balanced_accuracy_score(Y_test, adjusted_predicted_labels)\n",
    "# print(\"Balanced accuracy with modifications:\", balanced_acc)"
   ]
  },
  {
   "cell_type": "code",
   "execution_count": 177,
   "id": "295fb3e0-0743-4e6a-9426-cecc8f46f5a5",
   "metadata": {},
   "outputs": [
    {
     "data": {
      "text/plain": [
       "array(['PERMISSION'], dtype=object)"
      ]
     },
     "execution_count": 177,
     "metadata": {},
     "output_type": "execute_result"
    }
   ],
   "source": [
    "  #perm_vote=[permis+i for model.predict(post) in post_list]\n",
    "\n",
    "test_str=[\"\"\"\n",
    " greetings folk i m a nature lover birdwatching in my backyard i m spotting  different bird species and identification , anyone   at  x how can i do x and y?\n",
    "\n",
    " greetings folk i m a nature lover birdwatching in my backyard i m spotting  different bird species and identification , anyone   at  x how can i do x and y?\n",
    " greetings folk i m a nature lover birdwatching in my backyard i m spotting  different bird species and identification , anyone   at  x how can i do x and y?\n",
    " greetings anyone here good at x folk i m a nature lover birdwatching in my backyard i m spotting  different bird species and identification , anyone   at  x how can i do x and y?\n",
    " greetings folk i m a nature lover birdwatching in my backyard i m spotting  different bird species and identification , anyone   at  x how can i do x and y?\n",
    "\"\"\"]\n",
    " \n",
    "test_tuned=tfidf_vectorizer.transform(test_str)\n",
    "model_tuned.predict(test_tuned)"
   ]
  },
  {
   "cell_type": "code",
   "execution_count": 186,
   "id": "d70c8cdf-7254-43c7-953b-54912cd88d5b",
   "metadata": {},
   "outputs": [
    {
     "name": "stdout",
     "output_type": "stream",
     "text": [
      "['DIRECT', 'DIRECT']\n"
     ]
    },
    {
     "data": {
      "text/plain": [
       "'DIRECT'"
      ]
     },
     "execution_count": 186,
     "metadata": {},
     "output_type": "execute_result"
    }
   ],
   "source": [
    "from collections import Counter\n",
    "# SVC long questions \n",
    "\n",
    "\n",
    "\n",
    "\n",
    "\n",
    "def Long_Q_segment(post_list,use_tfidf=False):\n",
    "    permission_tracker=[]\n",
    "\n",
    "    for post in post_list:\n",
    "        if use_tfidf:\n",
    "            test_x=[post]\n",
    "\n",
    "        else:\n",
    "            \n",
    "            test_x=tfidf_vectorizer.transform([post])\n",
    "\n",
    "        #predicted_labels = model.predict(test_x)\n",
    "\n",
    "        # print(model.predict(test_x))\n",
    "        # permission_tracker.append(model.predict(test_x))\n",
    "        \n",
    "        # Get the probability scores for each class\n",
    "        predicted_labels = model_tuned.predict(test_x)\n",
    "        \n",
    "        # Display the predicted labels and probability scores\n",
    "        for label in zip(predicted_labels):\n",
    "            # print(f\"Predicted label: {label}\")\n",
    "            # print(f\"Probability scores: {prob_scores}\")\n",
    "            # print(f\"the segement: {post}\")\n",
    "        \n",
    "        \n",
    "             #bias or threshold\n",
    "            # Adjust probability scores based on the threshold\n",
    "            # Get the adjusted predicted labels based on adjusted scores\n",
    "            # Display the adjusted predicted labels\n",
    "          #  print(adjusted_predicted_labels)\n",
    "            permission_tracker.append(predicted_labels[0])\n",
    "            #print(\"Adjusted Predicted Labels:\", adjusted_predicted_labels)\n",
    "            \n",
    "            \n",
    "        \n",
    "\n",
    "\n",
    "\n",
    "    \n",
    "    if permission_tracker[-1]==['PERMISSION']:\n",
    "        #print(prob_scores)\n",
    "        return 'PERMISSION'\n",
    "    else:\n",
    "        print(permission_tracker)\n",
    "        label_counts = Counter(permission_tracker)\n",
    "\n",
    "# Find the label with the highest count\n",
    "        majority_label = label_counts.most_common(1)[0][0]\n",
    "\n",
    "\n",
    "        \n",
    "        return majority_label\n",
    "    #perm_vote=[permis+i for model.predict(post) in post_list]\n",
    "\n",
    "test_str=\"\"\"\n",
    " guys how can I create a pipeline that takes a list of text documents, parses them for sentiment, and outputs a score?\n",
    "\n",
    "\"\"\"\n",
    "segments = segment_posts(test_str, ave_len=12)# segments the longer questions to help with some of the false negatives\n",
    "#print(segments)\n",
    "\n",
    "\n",
    "Long_Q_segment(segment_posts(test_str, ave_len=12))"
   ]
  },
  {
   "cell_type": "code",
   "execution_count": 189,
   "id": "bf1cfc20-617e-4009-a4b5-d9ecac630b3a",
   "metadata": {},
   "outputs": [
    {
     "data": {
      "text/plain": [
       "['SVM94Tuned20.joblib']"
      ]
     },
     "execution_count": 189,
     "metadata": {},
     "output_type": "execute_result"
    }
   ],
   "source": [
    "import joblib\n",
    "joblib.dump(model_tuned, \"SVM94Tuned20.joblib\")\n",
    "\n"
   ]
  },
  {
   "cell_type": "markdown",
   "id": "976707f3-f1b6-487f-9597-b3090a3fc130",
   "metadata": {},
   "source": []
  }
 ],
 "metadata": {
  "kernelspec": {
   "display_name": "Python 3 (ipykernel)",
   "language": "python",
   "name": "python3"
  },
  "language_info": {
   "codemirror_mode": {
    "name": "ipython",
    "version": 3
   },
   "file_extension": ".py",
   "mimetype": "text/x-python",
   "name": "python",
   "nbconvert_exporter": "python",
   "pygments_lexer": "ipython3",
   "version": "3.11.7"
  }
 },
 "nbformat": 4,
 "nbformat_minor": 5
}
